{
 "cells": [
  {
   "cell_type": "markdown",
   "metadata": {},
   "source": [
    "# Week 7 Lab: Text Analytics"
   ]
  },
  {
   "cell_type": "markdown",
   "metadata": {},
   "source": [
    "<img align=\"right\" style=\"padding-right:10px;\" src=\"figures_wk7/topic_modeling.png\" width=400><br>\n",
    "\n",
    "This week's assignment will focus on text analysis of BBC News articles.\n",
    "\n",
    "## Our Dataset: \n",
    "**Dataset:** bbc.csv(Provided in folder assign_wk7)<br>\n",
    "Consists of 2225 documents from the BBC news website corresponding to stories in five topical areas from 2004-2005. <br>\n",
    "Class Labels: 5 (business, entertainment, politics, sport, tech)\n",
    "\n",
    "## Text Analytics Lab\n",
    "\n",
    "**Objective:** \n",
    "To demostrate all of the text analysis techniques covered int his week's lecture material. Your submission needs to include the following:\n",
    "   - Preparation of the text data for analysis\n",
    "       * Elimination of stopwords, punctuation, digits, lowercase\n",
    "   - Identify the 10 most frequently used words in the text\n",
    "       * How about the ten least frequently used words? \n",
    "       * How does lemmatization change the most/least frequent words?\n",
    "           - Explain and demonstrate this topic\n",
    "   - Generate a world cloud for the text\n",
    "   - Demonstrate the generation of n-grams and part of speech tagging\n",
    "   - Create a Topic model of the text\n",
    "       * Find the optimal number of topics\n",
    "       * test the accuracy of your model\n",
    "       * Display your results 2 different ways.\n",
    "           1) Print the topics and explain any insights at this point.\n",
    "           2) Graph the topics and explain any insights at this point.\n"
   ]
  },
  {
   "cell_type": "markdown",
   "metadata": {},
   "source": [
    "### Deliverables:\n",
    "\n",
    "Upload your notebook's .ipynb file and your topic_model_viz.html page this week.\n",
    "   \n",
    "**Important:** Make sure your provide complete and thorough explanations for all of your analysis. You need to defend your thought processes and reasoning."
   ]
  },
  {
   "cell_type": "markdown",
   "metadata": {},
   "source": [
    "Reference:\n",
    "> Graphic comes from https://medium.com/nanonets/topic-modeling-with-lsa-psla-lda-and-lda2vec-555ff65b0b05"
   ]
  },
  {
   "cell_type": "code",
   "execution_count": 1,
   "metadata": {},
   "outputs": [],
   "source": [
    "import pandas as pd\n",
    "import numpy as np\n",
    "import matplotlib.pyplot as plt\n",
    "import seaborn as sns\n",
    "from sklearn.datasets import fetch_20newsgroups\n",
    "import warnings\n",
    "warnings.filterwarnings(\"ignore\")\n",
    "\n",
    "%matplotlib inline\n",
    "sns.set() "
   ]
  },
  {
   "cell_type": "code",
   "execution_count": 2,
   "metadata": {},
   "outputs": [
    {
     "data": {
      "text/html": [
       "<div>\n",
       "<style scoped>\n",
       "    .dataframe tbody tr th:only-of-type {\n",
       "        vertical-align: middle;\n",
       "    }\n",
       "\n",
       "    .dataframe tbody tr th {\n",
       "        vertical-align: top;\n",
       "    }\n",
       "\n",
       "    .dataframe thead th {\n",
       "        text-align: right;\n",
       "    }\n",
       "</style>\n",
       "<table border=\"1\" class=\"dataframe\">\n",
       "  <thead>\n",
       "    <tr style=\"text-align: right;\">\n",
       "      <th></th>\n",
       "      <th>id</th>\n",
       "      <th>news</th>\n",
       "      <th>type</th>\n",
       "    </tr>\n",
       "  </thead>\n",
       "  <tbody>\n",
       "    <tr>\n",
       "      <th>0</th>\n",
       "      <td>0</td>\n",
       "      <td>UK economy facing 'major risks'\\n \\n The UK ma...</td>\n",
       "      <td>business</td>\n",
       "    </tr>\n",
       "    <tr>\n",
       "      <th>1</th>\n",
       "      <td>1</td>\n",
       "      <td>Aids and climate top Davos agenda\\n \\n Climate...</td>\n",
       "      <td>business</td>\n",
       "    </tr>\n",
       "    <tr>\n",
       "      <th>2</th>\n",
       "      <td>2</td>\n",
       "      <td>Asian quake hits European shares\\n \\n Shares i...</td>\n",
       "      <td>business</td>\n",
       "    </tr>\n",
       "    <tr>\n",
       "      <th>3</th>\n",
       "      <td>3</td>\n",
       "      <td>India power shares jump on debut\\n \\n Shares i...</td>\n",
       "      <td>business</td>\n",
       "    </tr>\n",
       "    <tr>\n",
       "      <th>4</th>\n",
       "      <td>4</td>\n",
       "      <td>Lacroix label bought by US firm\\n \\n Luxury go...</td>\n",
       "      <td>business</td>\n",
       "    </tr>\n",
       "  </tbody>\n",
       "</table>\n",
       "</div>"
      ],
      "text/plain": [
       "   id                                               news      type\n",
       "0   0  UK economy facing 'major risks'\\n \\n The UK ma...  business\n",
       "1   1  Aids and climate top Davos agenda\\n \\n Climate...  business\n",
       "2   2  Asian quake hits European shares\\n \\n Shares i...  business\n",
       "3   3  India power shares jump on debut\\n \\n Shares i...  business\n",
       "4   4  Lacroix label bought by US firm\\n \\n Luxury go...  business"
      ]
     },
     "execution_count": 2,
     "metadata": {},
     "output_type": "execute_result"
    }
   ],
   "source": [
    "#Importing the dataset\n",
    "\n",
    "df = pd.read_csv('C:/Users/Asmita Bamma/Downloads/assign_wk7/assign_wk7/bbc.csv')\n",
    "df.head()"
   ]
  },
  {
   "cell_type": "markdown",
   "metadata": {},
   "source": [
    "# Basic Text Analysis Metrics"
   ]
  },
  {
   "cell_type": "markdown",
   "metadata": {},
   "source": [
    "Word Count"
   ]
  },
  {
   "cell_type": "code",
   "execution_count": 3,
   "metadata": {},
   "outputs": [],
   "source": [
    "df['word_cnt'] = df.news.apply(lambda x: len(str(x).split(\" \")))\n"
   ]
  },
  {
   "cell_type": "code",
   "execution_count": 4,
   "metadata": {},
   "outputs": [
    {
     "data": {
      "text/html": [
       "<div>\n",
       "<style scoped>\n",
       "    .dataframe tbody tr th:only-of-type {\n",
       "        vertical-align: middle;\n",
       "    }\n",
       "\n",
       "    .dataframe tbody tr th {\n",
       "        vertical-align: top;\n",
       "    }\n",
       "\n",
       "    .dataframe thead th {\n",
       "        text-align: right;\n",
       "    }\n",
       "</style>\n",
       "<table border=\"1\" class=\"dataframe\">\n",
       "  <thead>\n",
       "    <tr style=\"text-align: right;\">\n",
       "      <th></th>\n",
       "      <th>id</th>\n",
       "      <th>news</th>\n",
       "      <th>type</th>\n",
       "      <th>word_cnt</th>\n",
       "    </tr>\n",
       "  </thead>\n",
       "  <tbody>\n",
       "    <tr>\n",
       "      <th>0</th>\n",
       "      <td>0</td>\n",
       "      <td>UK economy facing 'major risks'\\n \\n The UK ma...</td>\n",
       "      <td>business</td>\n",
       "      <td>329</td>\n",
       "    </tr>\n",
       "    <tr>\n",
       "      <th>1</th>\n",
       "      <td>1</td>\n",
       "      <td>Aids and climate top Davos agenda\\n \\n Climate...</td>\n",
       "      <td>business</td>\n",
       "      <td>454</td>\n",
       "    </tr>\n",
       "    <tr>\n",
       "      <th>2</th>\n",
       "      <td>2</td>\n",
       "      <td>Asian quake hits European shares\\n \\n Shares i...</td>\n",
       "      <td>business</td>\n",
       "      <td>553</td>\n",
       "    </tr>\n",
       "    <tr>\n",
       "      <th>3</th>\n",
       "      <td>3</td>\n",
       "      <td>India power shares jump on debut\\n \\n Shares i...</td>\n",
       "      <td>business</td>\n",
       "      <td>175</td>\n",
       "    </tr>\n",
       "    <tr>\n",
       "      <th>4</th>\n",
       "      <td>4</td>\n",
       "      <td>Lacroix label bought by US firm\\n \\n Luxury go...</td>\n",
       "      <td>business</td>\n",
       "      <td>152</td>\n",
       "    </tr>\n",
       "    <tr>\n",
       "      <th>5</th>\n",
       "      <td>5</td>\n",
       "      <td>Insurance bosses plead guilty\\n \\n Another thr...</td>\n",
       "      <td>business</td>\n",
       "      <td>146</td>\n",
       "    </tr>\n",
       "    <tr>\n",
       "      <th>6</th>\n",
       "      <td>6</td>\n",
       "      <td>Turkey-Iran mobile deal 'at risk'\\n \\n Turkey'...</td>\n",
       "      <td>business</td>\n",
       "      <td>257</td>\n",
       "    </tr>\n",
       "    <tr>\n",
       "      <th>7</th>\n",
       "      <td>7</td>\n",
       "      <td>Parmalat to return to stockmarket\\n \\n Parmala...</td>\n",
       "      <td>business</td>\n",
       "      <td>269</td>\n",
       "    </tr>\n",
       "    <tr>\n",
       "      <th>8</th>\n",
       "      <td>8</td>\n",
       "      <td>WorldCom director admits lying\\n \\n The former...</td>\n",
       "      <td>business</td>\n",
       "      <td>356</td>\n",
       "    </tr>\n",
       "    <tr>\n",
       "      <th>9</th>\n",
       "      <td>9</td>\n",
       "      <td>Ebbers denies WorldCom fraud\\n \\n Former World...</td>\n",
       "      <td>business</td>\n",
       "      <td>346</td>\n",
       "    </tr>\n",
       "  </tbody>\n",
       "</table>\n",
       "</div>"
      ],
      "text/plain": [
       "   id                                               news      type  word_cnt\n",
       "0   0  UK economy facing 'major risks'\\n \\n The UK ma...  business       329\n",
       "1   1  Aids and climate top Davos agenda\\n \\n Climate...  business       454\n",
       "2   2  Asian quake hits European shares\\n \\n Shares i...  business       553\n",
       "3   3  India power shares jump on debut\\n \\n Shares i...  business       175\n",
       "4   4  Lacroix label bought by US firm\\n \\n Luxury go...  business       152\n",
       "5   5  Insurance bosses plead guilty\\n \\n Another thr...  business       146\n",
       "6   6  Turkey-Iran mobile deal 'at risk'\\n \\n Turkey'...  business       257\n",
       "7   7  Parmalat to return to stockmarket\\n \\n Parmala...  business       269\n",
       "8   8  WorldCom director admits lying\\n \\n The former...  business       356\n",
       "9   9  Ebbers denies WorldCom fraud\\n \\n Former World...  business       346"
      ]
     },
     "execution_count": 4,
     "metadata": {},
     "output_type": "execute_result"
    }
   ],
   "source": [
    "# Now lets check the values\n",
    "df.head(10)"
   ]
  },
  {
   "cell_type": "markdown",
   "metadata": {},
   "source": [
    "We can see a new column with total word counts of the each news."
   ]
  },
  {
   "cell_type": "markdown",
   "metadata": {},
   "source": [
    "Character Count"
   ]
  },
  {
   "cell_type": "code",
   "execution_count": 5,
   "metadata": {},
   "outputs": [],
   "source": [
    "# Checking the number of characters in each post\n",
    "df['char_cnt'] = df.news.str.len()"
   ]
  },
  {
   "cell_type": "code",
   "execution_count": 6,
   "metadata": {},
   "outputs": [
    {
     "data": {
      "text/html": [
       "<div>\n",
       "<style scoped>\n",
       "    .dataframe tbody tr th:only-of-type {\n",
       "        vertical-align: middle;\n",
       "    }\n",
       "\n",
       "    .dataframe tbody tr th {\n",
       "        vertical-align: top;\n",
       "    }\n",
       "\n",
       "    .dataframe thead th {\n",
       "        text-align: right;\n",
       "    }\n",
       "</style>\n",
       "<table border=\"1\" class=\"dataframe\">\n",
       "  <thead>\n",
       "    <tr style=\"text-align: right;\">\n",
       "      <th></th>\n",
       "      <th>id</th>\n",
       "      <th>news</th>\n",
       "      <th>type</th>\n",
       "      <th>word_cnt</th>\n",
       "      <th>char_cnt</th>\n",
       "    </tr>\n",
       "  </thead>\n",
       "  <tbody>\n",
       "    <tr>\n",
       "      <th>0</th>\n",
       "      <td>0</td>\n",
       "      <td>UK economy facing 'major risks'\\n \\n The UK ma...</td>\n",
       "      <td>business</td>\n",
       "      <td>329</td>\n",
       "      <td>1996</td>\n",
       "    </tr>\n",
       "    <tr>\n",
       "      <th>1</th>\n",
       "      <td>1</td>\n",
       "      <td>Aids and climate top Davos agenda\\n \\n Climate...</td>\n",
       "      <td>business</td>\n",
       "      <td>454</td>\n",
       "      <td>2727</td>\n",
       "    </tr>\n",
       "    <tr>\n",
       "      <th>2</th>\n",
       "      <td>2</td>\n",
       "      <td>Asian quake hits European shares\\n \\n Shares i...</td>\n",
       "      <td>business</td>\n",
       "      <td>553</td>\n",
       "      <td>3444</td>\n",
       "    </tr>\n",
       "    <tr>\n",
       "      <th>3</th>\n",
       "      <td>3</td>\n",
       "      <td>India power shares jump on debut\\n \\n Shares i...</td>\n",
       "      <td>business</td>\n",
       "      <td>175</td>\n",
       "      <td>1038</td>\n",
       "    </tr>\n",
       "    <tr>\n",
       "      <th>4</th>\n",
       "      <td>4</td>\n",
       "      <td>Lacroix label bought by US firm\\n \\n Luxury go...</td>\n",
       "      <td>business</td>\n",
       "      <td>152</td>\n",
       "      <td>894</td>\n",
       "    </tr>\n",
       "    <tr>\n",
       "      <th>5</th>\n",
       "      <td>5</td>\n",
       "      <td>Insurance bosses plead guilty\\n \\n Another thr...</td>\n",
       "      <td>business</td>\n",
       "      <td>146</td>\n",
       "      <td>920</td>\n",
       "    </tr>\n",
       "    <tr>\n",
       "      <th>6</th>\n",
       "      <td>6</td>\n",
       "      <td>Turkey-Iran mobile deal 'at risk'\\n \\n Turkey'...</td>\n",
       "      <td>business</td>\n",
       "      <td>257</td>\n",
       "      <td>1539</td>\n",
       "    </tr>\n",
       "    <tr>\n",
       "      <th>7</th>\n",
       "      <td>7</td>\n",
       "      <td>Parmalat to return to stockmarket\\n \\n Parmala...</td>\n",
       "      <td>business</td>\n",
       "      <td>269</td>\n",
       "      <td>1675</td>\n",
       "    </tr>\n",
       "    <tr>\n",
       "      <th>8</th>\n",
       "      <td>8</td>\n",
       "      <td>WorldCom director admits lying\\n \\n The former...</td>\n",
       "      <td>business</td>\n",
       "      <td>356</td>\n",
       "      <td>2085</td>\n",
       "    </tr>\n",
       "    <tr>\n",
       "      <th>9</th>\n",
       "      <td>9</td>\n",
       "      <td>Ebbers denies WorldCom fraud\\n \\n Former World...</td>\n",
       "      <td>business</td>\n",
       "      <td>346</td>\n",
       "      <td>2067</td>\n",
       "    </tr>\n",
       "  </tbody>\n",
       "</table>\n",
       "</div>"
      ],
      "text/plain": [
       "   id                                               news      type  word_cnt  \\\n",
       "0   0  UK economy facing 'major risks'\\n \\n The UK ma...  business       329   \n",
       "1   1  Aids and climate top Davos agenda\\n \\n Climate...  business       454   \n",
       "2   2  Asian quake hits European shares\\n \\n Shares i...  business       553   \n",
       "3   3  India power shares jump on debut\\n \\n Shares i...  business       175   \n",
       "4   4  Lacroix label bought by US firm\\n \\n Luxury go...  business       152   \n",
       "5   5  Insurance bosses plead guilty\\n \\n Another thr...  business       146   \n",
       "6   6  Turkey-Iran mobile deal 'at risk'\\n \\n Turkey'...  business       257   \n",
       "7   7  Parmalat to return to stockmarket\\n \\n Parmala...  business       269   \n",
       "8   8  WorldCom director admits lying\\n \\n The former...  business       356   \n",
       "9   9  Ebbers denies WorldCom fraud\\n \\n Former World...  business       346   \n",
       "\n",
       "   char_cnt  \n",
       "0      1996  \n",
       "1      2727  \n",
       "2      3444  \n",
       "3      1038  \n",
       "4       894  \n",
       "5       920  \n",
       "6      1539  \n",
       "7      1675  \n",
       "8      2085  \n",
       "9      2067  "
      ]
     },
     "execution_count": 6,
     "metadata": {},
     "output_type": "execute_result"
    }
   ],
   "source": [
    "# Lets check the values\n",
    "df.head(10)"
   ]
  },
  {
   "cell_type": "markdown",
   "metadata": {},
   "source": [
    "Now, lets calculate the number of stop words by importing NLTK, which is a basic NLP library in python."
   ]
  },
  {
   "cell_type": "code",
   "execution_count": 7,
   "metadata": {},
   "outputs": [],
   "source": [
    "from nltk.corpus import stopwords\n",
    "stop = stopwords.words('english')\n",
    "\n",
    "df['stopwords'] = df.news.apply(lambda x: len([x for x in x.split() if x in stop]))"
   ]
  },
  {
   "cell_type": "code",
   "execution_count": 8,
   "metadata": {},
   "outputs": [
    {
     "data": {
      "text/html": [
       "<div>\n",
       "<style scoped>\n",
       "    .dataframe tbody tr th:only-of-type {\n",
       "        vertical-align: middle;\n",
       "    }\n",
       "\n",
       "    .dataframe tbody tr th {\n",
       "        vertical-align: top;\n",
       "    }\n",
       "\n",
       "    .dataframe thead th {\n",
       "        text-align: right;\n",
       "    }\n",
       "</style>\n",
       "<table border=\"1\" class=\"dataframe\">\n",
       "  <thead>\n",
       "    <tr style=\"text-align: right;\">\n",
       "      <th></th>\n",
       "      <th>id</th>\n",
       "      <th>news</th>\n",
       "      <th>type</th>\n",
       "      <th>word_cnt</th>\n",
       "      <th>char_cnt</th>\n",
       "      <th>stopwords</th>\n",
       "    </tr>\n",
       "  </thead>\n",
       "  <tbody>\n",
       "    <tr>\n",
       "      <th>0</th>\n",
       "      <td>0</td>\n",
       "      <td>UK economy facing 'major risks'\\n \\n The UK ma...</td>\n",
       "      <td>business</td>\n",
       "      <td>329</td>\n",
       "      <td>1996</td>\n",
       "      <td>112</td>\n",
       "    </tr>\n",
       "    <tr>\n",
       "      <th>1</th>\n",
       "      <td>1</td>\n",
       "      <td>Aids and climate top Davos agenda\\n \\n Climate...</td>\n",
       "      <td>business</td>\n",
       "      <td>454</td>\n",
       "      <td>2727</td>\n",
       "      <td>161</td>\n",
       "    </tr>\n",
       "    <tr>\n",
       "      <th>2</th>\n",
       "      <td>2</td>\n",
       "      <td>Asian quake hits European shares\\n \\n Shares i...</td>\n",
       "      <td>business</td>\n",
       "      <td>553</td>\n",
       "      <td>3444</td>\n",
       "      <td>171</td>\n",
       "    </tr>\n",
       "    <tr>\n",
       "      <th>3</th>\n",
       "      <td>3</td>\n",
       "      <td>India power shares jump on debut\\n \\n Shares i...</td>\n",
       "      <td>business</td>\n",
       "      <td>175</td>\n",
       "      <td>1038</td>\n",
       "      <td>55</td>\n",
       "    </tr>\n",
       "    <tr>\n",
       "      <th>4</th>\n",
       "      <td>4</td>\n",
       "      <td>Lacroix label bought by US firm\\n \\n Luxury go...</td>\n",
       "      <td>business</td>\n",
       "      <td>152</td>\n",
       "      <td>894</td>\n",
       "      <td>47</td>\n",
       "    </tr>\n",
       "    <tr>\n",
       "      <th>5</th>\n",
       "      <td>5</td>\n",
       "      <td>Insurance bosses plead guilty\\n \\n Another thr...</td>\n",
       "      <td>business</td>\n",
       "      <td>146</td>\n",
       "      <td>920</td>\n",
       "      <td>39</td>\n",
       "    </tr>\n",
       "    <tr>\n",
       "      <th>6</th>\n",
       "      <td>6</td>\n",
       "      <td>Turkey-Iran mobile deal 'at risk'\\n \\n Turkey'...</td>\n",
       "      <td>business</td>\n",
       "      <td>257</td>\n",
       "      <td>1539</td>\n",
       "      <td>91</td>\n",
       "    </tr>\n",
       "    <tr>\n",
       "      <th>7</th>\n",
       "      <td>7</td>\n",
       "      <td>Parmalat to return to stockmarket\\n \\n Parmala...</td>\n",
       "      <td>business</td>\n",
       "      <td>269</td>\n",
       "      <td>1675</td>\n",
       "      <td>100</td>\n",
       "    </tr>\n",
       "    <tr>\n",
       "      <th>8</th>\n",
       "      <td>8</td>\n",
       "      <td>WorldCom director admits lying\\n \\n The former...</td>\n",
       "      <td>business</td>\n",
       "      <td>356</td>\n",
       "      <td>2085</td>\n",
       "      <td>129</td>\n",
       "    </tr>\n",
       "    <tr>\n",
       "      <th>9</th>\n",
       "      <td>9</td>\n",
       "      <td>Ebbers denies WorldCom fraud\\n \\n Former World...</td>\n",
       "      <td>business</td>\n",
       "      <td>346</td>\n",
       "      <td>2067</td>\n",
       "      <td>125</td>\n",
       "    </tr>\n",
       "  </tbody>\n",
       "</table>\n",
       "</div>"
      ],
      "text/plain": [
       "   id                                               news      type  word_cnt  \\\n",
       "0   0  UK economy facing 'major risks'\\n \\n The UK ma...  business       329   \n",
       "1   1  Aids and climate top Davos agenda\\n \\n Climate...  business       454   \n",
       "2   2  Asian quake hits European shares\\n \\n Shares i...  business       553   \n",
       "3   3  India power shares jump on debut\\n \\n Shares i...  business       175   \n",
       "4   4  Lacroix label bought by US firm\\n \\n Luxury go...  business       152   \n",
       "5   5  Insurance bosses plead guilty\\n \\n Another thr...  business       146   \n",
       "6   6  Turkey-Iran mobile deal 'at risk'\\n \\n Turkey'...  business       257   \n",
       "7   7  Parmalat to return to stockmarket\\n \\n Parmala...  business       269   \n",
       "8   8  WorldCom director admits lying\\n \\n The former...  business       356   \n",
       "9   9  Ebbers denies WorldCom fraud\\n \\n Former World...  business       346   \n",
       "\n",
       "   char_cnt  stopwords  \n",
       "0      1996        112  \n",
       "1      2727        161  \n",
       "2      3444        171  \n",
       "3      1038         55  \n",
       "4       894         47  \n",
       "5       920         39  \n",
       "6      1539         91  \n",
       "7      1675        100  \n",
       "8      2085        129  \n",
       "9      2067        125  "
      ]
     },
     "execution_count": 8,
     "metadata": {},
     "output_type": "execute_result"
    }
   ],
   "source": [
    "# Checking our values\n",
    "df.head(10)"
   ]
  },
  {
   "cell_type": "markdown",
   "metadata": {},
   "source": [
    "# Data Cleaning and Preparation"
   ]
  },
  {
   "cell_type": "markdown",
   "metadata": {},
   "source": [
    "# Converting Text to Lowercase"
   ]
  },
  {
   "cell_type": "markdown",
   "metadata": {},
   "source": [
    "Converting Text to Lowercase to avoid having multiple copies of the same words."
   ]
  },
  {
   "cell_type": "code",
   "execution_count": 9,
   "metadata": {},
   "outputs": [
    {
     "data": {
      "text/html": [
       "<div>\n",
       "<style scoped>\n",
       "    .dataframe tbody tr th:only-of-type {\n",
       "        vertical-align: middle;\n",
       "    }\n",
       "\n",
       "    .dataframe tbody tr th {\n",
       "        vertical-align: top;\n",
       "    }\n",
       "\n",
       "    .dataframe thead th {\n",
       "        text-align: right;\n",
       "    }\n",
       "</style>\n",
       "<table border=\"1\" class=\"dataframe\">\n",
       "  <thead>\n",
       "    <tr style=\"text-align: right;\">\n",
       "      <th></th>\n",
       "      <th>id</th>\n",
       "      <th>news</th>\n",
       "      <th>type</th>\n",
       "      <th>word_cnt</th>\n",
       "      <th>char_cnt</th>\n",
       "      <th>stopwords</th>\n",
       "      <th>clean_text</th>\n",
       "    </tr>\n",
       "  </thead>\n",
       "  <tbody>\n",
       "    <tr>\n",
       "      <th>0</th>\n",
       "      <td>0</td>\n",
       "      <td>UK economy facing 'major risks'\\n \\n The UK ma...</td>\n",
       "      <td>business</td>\n",
       "      <td>329</td>\n",
       "      <td>1996</td>\n",
       "      <td>112</td>\n",
       "      <td>uk economy facing 'major risks' the uk manufac...</td>\n",
       "    </tr>\n",
       "    <tr>\n",
       "      <th>1</th>\n",
       "      <td>1</td>\n",
       "      <td>Aids and climate top Davos agenda\\n \\n Climate...</td>\n",
       "      <td>business</td>\n",
       "      <td>454</td>\n",
       "      <td>2727</td>\n",
       "      <td>161</td>\n",
       "      <td>aids and climate top davos agenda climate chan...</td>\n",
       "    </tr>\n",
       "    <tr>\n",
       "      <th>2</th>\n",
       "      <td>2</td>\n",
       "      <td>Asian quake hits European shares\\n \\n Shares i...</td>\n",
       "      <td>business</td>\n",
       "      <td>553</td>\n",
       "      <td>3444</td>\n",
       "      <td>171</td>\n",
       "      <td>asian quake hits european shares shares in eur...</td>\n",
       "    </tr>\n",
       "    <tr>\n",
       "      <th>3</th>\n",
       "      <td>3</td>\n",
       "      <td>India power shares jump on debut\\n \\n Shares i...</td>\n",
       "      <td>business</td>\n",
       "      <td>175</td>\n",
       "      <td>1038</td>\n",
       "      <td>55</td>\n",
       "      <td>india power shares jump on debut shares in ind...</td>\n",
       "    </tr>\n",
       "    <tr>\n",
       "      <th>4</th>\n",
       "      <td>4</td>\n",
       "      <td>Lacroix label bought by US firm\\n \\n Luxury go...</td>\n",
       "      <td>business</td>\n",
       "      <td>152</td>\n",
       "      <td>894</td>\n",
       "      <td>47</td>\n",
       "      <td>lacroix label bought by us firm luxury goods g...</td>\n",
       "    </tr>\n",
       "    <tr>\n",
       "      <th>5</th>\n",
       "      <td>5</td>\n",
       "      <td>Insurance bosses plead guilty\\n \\n Another thr...</td>\n",
       "      <td>business</td>\n",
       "      <td>146</td>\n",
       "      <td>920</td>\n",
       "      <td>39</td>\n",
       "      <td>insurance bosses plead guilty another three us...</td>\n",
       "    </tr>\n",
       "    <tr>\n",
       "      <th>6</th>\n",
       "      <td>6</td>\n",
       "      <td>Turkey-Iran mobile deal 'at risk'\\n \\n Turkey'...</td>\n",
       "      <td>business</td>\n",
       "      <td>257</td>\n",
       "      <td>1539</td>\n",
       "      <td>91</td>\n",
       "      <td>turkey-iran mobile deal 'at risk' turkey's inv...</td>\n",
       "    </tr>\n",
       "    <tr>\n",
       "      <th>7</th>\n",
       "      <td>7</td>\n",
       "      <td>Parmalat to return to stockmarket\\n \\n Parmala...</td>\n",
       "      <td>business</td>\n",
       "      <td>269</td>\n",
       "      <td>1675</td>\n",
       "      <td>100</td>\n",
       "      <td>parmalat to return to stockmarket parmalat, th...</td>\n",
       "    </tr>\n",
       "    <tr>\n",
       "      <th>8</th>\n",
       "      <td>8</td>\n",
       "      <td>WorldCom director admits lying\\n \\n The former...</td>\n",
       "      <td>business</td>\n",
       "      <td>356</td>\n",
       "      <td>2085</td>\n",
       "      <td>129</td>\n",
       "      <td>worldcom director admits lying the former chie...</td>\n",
       "    </tr>\n",
       "    <tr>\n",
       "      <th>9</th>\n",
       "      <td>9</td>\n",
       "      <td>Ebbers denies WorldCom fraud\\n \\n Former World...</td>\n",
       "      <td>business</td>\n",
       "      <td>346</td>\n",
       "      <td>2067</td>\n",
       "      <td>125</td>\n",
       "      <td>ebbers denies worldcom fraud former worldcom c...</td>\n",
       "    </tr>\n",
       "  </tbody>\n",
       "</table>\n",
       "</div>"
      ],
      "text/plain": [
       "   id                                               news      type  word_cnt  \\\n",
       "0   0  UK economy facing 'major risks'\\n \\n The UK ma...  business       329   \n",
       "1   1  Aids and climate top Davos agenda\\n \\n Climate...  business       454   \n",
       "2   2  Asian quake hits European shares\\n \\n Shares i...  business       553   \n",
       "3   3  India power shares jump on debut\\n \\n Shares i...  business       175   \n",
       "4   4  Lacroix label bought by US firm\\n \\n Luxury go...  business       152   \n",
       "5   5  Insurance bosses plead guilty\\n \\n Another thr...  business       146   \n",
       "6   6  Turkey-Iran mobile deal 'at risk'\\n \\n Turkey'...  business       257   \n",
       "7   7  Parmalat to return to stockmarket\\n \\n Parmala...  business       269   \n",
       "8   8  WorldCom director admits lying\\n \\n The former...  business       356   \n",
       "9   9  Ebbers denies WorldCom fraud\\n \\n Former World...  business       346   \n",
       "\n",
       "   char_cnt  stopwords                                         clean_text  \n",
       "0      1996        112  uk economy facing 'major risks' the uk manufac...  \n",
       "1      2727        161  aids and climate top davos agenda climate chan...  \n",
       "2      3444        171  asian quake hits european shares shares in eur...  \n",
       "3      1038         55  india power shares jump on debut shares in ind...  \n",
       "4       894         47  lacroix label bought by us firm luxury goods g...  \n",
       "5       920         39  insurance bosses plead guilty another three us...  \n",
       "6      1539         91  turkey-iran mobile deal 'at risk' turkey's inv...  \n",
       "7      1675        100  parmalat to return to stockmarket parmalat, th...  \n",
       "8      2085        129  worldcom director admits lying the former chie...  \n",
       "9      2067        125  ebbers denies worldcom fraud former worldcom c...  "
      ]
     },
     "execution_count": 9,
     "metadata": {},
     "output_type": "execute_result"
    }
   ],
   "source": [
    "df['clean_text'] = df.news.apply(lambda x: \" \".join(x.lower() for x in x.split()))\n",
    "df.head(10)"
   ]
  },
  {
   "cell_type": "markdown",
   "metadata": {},
   "source": [
    "We can see that our result clean_text have all lower cases. Now, we will remove web addresses and user_ids because they will not add to our analysis."
   ]
  },
  {
   "cell_type": "markdown",
   "metadata": {},
   "source": [
    "# Removing Web Addresses and User_ids"
   ]
  },
  {
   "cell_type": "code",
   "execution_count": 10,
   "metadata": {},
   "outputs": [
    {
     "data": {
      "text/html": [
       "<div>\n",
       "<style scoped>\n",
       "    .dataframe tbody tr th:only-of-type {\n",
       "        vertical-align: middle;\n",
       "    }\n",
       "\n",
       "    .dataframe tbody tr th {\n",
       "        vertical-align: top;\n",
       "    }\n",
       "\n",
       "    .dataframe thead th {\n",
       "        text-align: right;\n",
       "    }\n",
       "</style>\n",
       "<table border=\"1\" class=\"dataframe\">\n",
       "  <thead>\n",
       "    <tr style=\"text-align: right;\">\n",
       "      <th></th>\n",
       "      <th>id</th>\n",
       "      <th>news</th>\n",
       "      <th>type</th>\n",
       "      <th>word_cnt</th>\n",
       "      <th>char_cnt</th>\n",
       "      <th>stopwords</th>\n",
       "      <th>clean_text</th>\n",
       "    </tr>\n",
       "  </thead>\n",
       "  <tbody>\n",
       "    <tr>\n",
       "      <th>0</th>\n",
       "      <td>0</td>\n",
       "      <td>UK economy facing 'major risks'\\n \\n The UK ma...</td>\n",
       "      <td>business</td>\n",
       "      <td>329</td>\n",
       "      <td>1996</td>\n",
       "      <td>112</td>\n",
       "      <td>uk economy facing 'major risks' the uk manufac...</td>\n",
       "    </tr>\n",
       "    <tr>\n",
       "      <th>1</th>\n",
       "      <td>1</td>\n",
       "      <td>Aids and climate top Davos agenda\\n \\n Climate...</td>\n",
       "      <td>business</td>\n",
       "      <td>454</td>\n",
       "      <td>2727</td>\n",
       "      <td>161</td>\n",
       "      <td>aids and climate top davos agenda climate chan...</td>\n",
       "    </tr>\n",
       "    <tr>\n",
       "      <th>2</th>\n",
       "      <td>2</td>\n",
       "      <td>Asian quake hits European shares\\n \\n Shares i...</td>\n",
       "      <td>business</td>\n",
       "      <td>553</td>\n",
       "      <td>3444</td>\n",
       "      <td>171</td>\n",
       "      <td>asian quake hits european shares shares in eur...</td>\n",
       "    </tr>\n",
       "    <tr>\n",
       "      <th>3</th>\n",
       "      <td>3</td>\n",
       "      <td>India power shares jump on debut\\n \\n Shares i...</td>\n",
       "      <td>business</td>\n",
       "      <td>175</td>\n",
       "      <td>1038</td>\n",
       "      <td>55</td>\n",
       "      <td>india power shares jump on debut shares in ind...</td>\n",
       "    </tr>\n",
       "    <tr>\n",
       "      <th>4</th>\n",
       "      <td>4</td>\n",
       "      <td>Lacroix label bought by US firm\\n \\n Luxury go...</td>\n",
       "      <td>business</td>\n",
       "      <td>152</td>\n",
       "      <td>894</td>\n",
       "      <td>47</td>\n",
       "      <td>lacroix label bought by us firm luxury goods g...</td>\n",
       "    </tr>\n",
       "    <tr>\n",
       "      <th>5</th>\n",
       "      <td>5</td>\n",
       "      <td>Insurance bosses plead guilty\\n \\n Another thr...</td>\n",
       "      <td>business</td>\n",
       "      <td>146</td>\n",
       "      <td>920</td>\n",
       "      <td>39</td>\n",
       "      <td>insurance bosses plead guilty another three us...</td>\n",
       "    </tr>\n",
       "    <tr>\n",
       "      <th>6</th>\n",
       "      <td>6</td>\n",
       "      <td>Turkey-Iran mobile deal 'at risk'\\n \\n Turkey'...</td>\n",
       "      <td>business</td>\n",
       "      <td>257</td>\n",
       "      <td>1539</td>\n",
       "      <td>91</td>\n",
       "      <td>turkey-iran mobile deal 'at risk' turkey's inv...</td>\n",
       "    </tr>\n",
       "    <tr>\n",
       "      <th>7</th>\n",
       "      <td>7</td>\n",
       "      <td>Parmalat to return to stockmarket\\n \\n Parmala...</td>\n",
       "      <td>business</td>\n",
       "      <td>269</td>\n",
       "      <td>1675</td>\n",
       "      <td>100</td>\n",
       "      <td>parmalat to return to stockmarket parmalat, th...</td>\n",
       "    </tr>\n",
       "    <tr>\n",
       "      <th>8</th>\n",
       "      <td>8</td>\n",
       "      <td>WorldCom director admits lying\\n \\n The former...</td>\n",
       "      <td>business</td>\n",
       "      <td>356</td>\n",
       "      <td>2085</td>\n",
       "      <td>129</td>\n",
       "      <td>director admits lying the former chief financ...</td>\n",
       "    </tr>\n",
       "    <tr>\n",
       "      <th>9</th>\n",
       "      <td>9</td>\n",
       "      <td>Ebbers denies WorldCom fraud\\n \\n Former World...</td>\n",
       "      <td>business</td>\n",
       "      <td>346</td>\n",
       "      <td>2067</td>\n",
       "      <td>125</td>\n",
       "      <td>ebbers denies  fraud former  chief bernie ebbe...</td>\n",
       "    </tr>\n",
       "  </tbody>\n",
       "</table>\n",
       "</div>"
      ],
      "text/plain": [
       "   id                                               news      type  word_cnt  \\\n",
       "0   0  UK economy facing 'major risks'\\n \\n The UK ma...  business       329   \n",
       "1   1  Aids and climate top Davos agenda\\n \\n Climate...  business       454   \n",
       "2   2  Asian quake hits European shares\\n \\n Shares i...  business       553   \n",
       "3   3  India power shares jump on debut\\n \\n Shares i...  business       175   \n",
       "4   4  Lacroix label bought by US firm\\n \\n Luxury go...  business       152   \n",
       "5   5  Insurance bosses plead guilty\\n \\n Another thr...  business       146   \n",
       "6   6  Turkey-Iran mobile deal 'at risk'\\n \\n Turkey'...  business       257   \n",
       "7   7  Parmalat to return to stockmarket\\n \\n Parmala...  business       269   \n",
       "8   8  WorldCom director admits lying\\n \\n The former...  business       356   \n",
       "9   9  Ebbers denies WorldCom fraud\\n \\n Former World...  business       346   \n",
       "\n",
       "   char_cnt  stopwords                                         clean_text  \n",
       "0      1996        112  uk economy facing 'major risks' the uk manufac...  \n",
       "1      2727        161  aids and climate top davos agenda climate chan...  \n",
       "2      3444        171  asian quake hits european shares shares in eur...  \n",
       "3      1038         55  india power shares jump on debut shares in ind...  \n",
       "4       894         47  lacroix label bought by us firm luxury goods g...  \n",
       "5       920         39  insurance bosses plead guilty another three us...  \n",
       "6      1539         91  turkey-iran mobile deal 'at risk' turkey's inv...  \n",
       "7      1675        100  parmalat to return to stockmarket parmalat, th...  \n",
       "8      2085        129   director admits lying the former chief financ...  \n",
       "9      2067        125  ebbers denies  fraud former  chief bernie ebbe...  "
      ]
     },
     "execution_count": 10,
     "metadata": {},
     "output_type": "execute_result"
    }
   ],
   "source": [
    "df['clean_text'] = df.clean_text.str.replace('\\S+@\\S+','') #looking for the case of XXXX@XXXX\n",
    "df['clean_text'] = df.clean_text.str.replace('http\\S+','') #looking for http or https web addresses\n",
    "df['clean_text'] = df.clean_text.str.replace('\\S+.com','') #looking for email addresses that end in '.com'\n",
    "df['clean_text'] = df.clean_text.str.replace('\\S+.edu','') #looking for email addresses that end in '.edu'\n",
    "df.head(10)"
   ]
  },
  {
   "cell_type": "markdown",
   "metadata": {},
   "source": [
    "# Removing Punctuation"
   ]
  },
  {
   "cell_type": "code",
   "execution_count": 11,
   "metadata": {},
   "outputs": [
    {
     "data": {
      "text/html": [
       "<div>\n",
       "<style scoped>\n",
       "    .dataframe tbody tr th:only-of-type {\n",
       "        vertical-align: middle;\n",
       "    }\n",
       "\n",
       "    .dataframe tbody tr th {\n",
       "        vertical-align: top;\n",
       "    }\n",
       "\n",
       "    .dataframe thead th {\n",
       "        text-align: right;\n",
       "    }\n",
       "</style>\n",
       "<table border=\"1\" class=\"dataframe\">\n",
       "  <thead>\n",
       "    <tr style=\"text-align: right;\">\n",
       "      <th></th>\n",
       "      <th>id</th>\n",
       "      <th>news</th>\n",
       "      <th>type</th>\n",
       "      <th>word_cnt</th>\n",
       "      <th>char_cnt</th>\n",
       "      <th>stopwords</th>\n",
       "      <th>clean_text</th>\n",
       "    </tr>\n",
       "  </thead>\n",
       "  <tbody>\n",
       "    <tr>\n",
       "      <th>0</th>\n",
       "      <td>0</td>\n",
       "      <td>UK economy facing 'major risks'\\n \\n The UK ma...</td>\n",
       "      <td>business</td>\n",
       "      <td>329</td>\n",
       "      <td>1996</td>\n",
       "      <td>112</td>\n",
       "      <td>uk economy facing major risks the uk manufactu...</td>\n",
       "    </tr>\n",
       "    <tr>\n",
       "      <th>1</th>\n",
       "      <td>1</td>\n",
       "      <td>Aids and climate top Davos agenda\\n \\n Climate...</td>\n",
       "      <td>business</td>\n",
       "      <td>454</td>\n",
       "      <td>2727</td>\n",
       "      <td>161</td>\n",
       "      <td>aids and climate top davos agenda climate chan...</td>\n",
       "    </tr>\n",
       "    <tr>\n",
       "      <th>2</th>\n",
       "      <td>2</td>\n",
       "      <td>Asian quake hits European shares\\n \\n Shares i...</td>\n",
       "      <td>business</td>\n",
       "      <td>553</td>\n",
       "      <td>3444</td>\n",
       "      <td>171</td>\n",
       "      <td>asian quake hits european shares shares in eur...</td>\n",
       "    </tr>\n",
       "    <tr>\n",
       "      <th>3</th>\n",
       "      <td>3</td>\n",
       "      <td>India power shares jump on debut\\n \\n Shares i...</td>\n",
       "      <td>business</td>\n",
       "      <td>175</td>\n",
       "      <td>1038</td>\n",
       "      <td>55</td>\n",
       "      <td>india power shares jump on debut shares in ind...</td>\n",
       "    </tr>\n",
       "    <tr>\n",
       "      <th>4</th>\n",
       "      <td>4</td>\n",
       "      <td>Lacroix label bought by US firm\\n \\n Luxury go...</td>\n",
       "      <td>business</td>\n",
       "      <td>152</td>\n",
       "      <td>894</td>\n",
       "      <td>47</td>\n",
       "      <td>lacroix label bought by us firm luxury goods g...</td>\n",
       "    </tr>\n",
       "    <tr>\n",
       "      <th>5</th>\n",
       "      <td>5</td>\n",
       "      <td>Insurance bosses plead guilty\\n \\n Another thr...</td>\n",
       "      <td>business</td>\n",
       "      <td>146</td>\n",
       "      <td>920</td>\n",
       "      <td>39</td>\n",
       "      <td>insurance bosses plead guilty another three us...</td>\n",
       "    </tr>\n",
       "    <tr>\n",
       "      <th>6</th>\n",
       "      <td>6</td>\n",
       "      <td>Turkey-Iran mobile deal 'at risk'\\n \\n Turkey'...</td>\n",
       "      <td>business</td>\n",
       "      <td>257</td>\n",
       "      <td>1539</td>\n",
       "      <td>91</td>\n",
       "      <td>turkeyiran mobile deal at risk turkeys investm...</td>\n",
       "    </tr>\n",
       "    <tr>\n",
       "      <th>7</th>\n",
       "      <td>7</td>\n",
       "      <td>Parmalat to return to stockmarket\\n \\n Parmala...</td>\n",
       "      <td>business</td>\n",
       "      <td>269</td>\n",
       "      <td>1675</td>\n",
       "      <td>100</td>\n",
       "      <td>parmalat to return to stockmarket parmalat the...</td>\n",
       "    </tr>\n",
       "    <tr>\n",
       "      <th>8</th>\n",
       "      <td>8</td>\n",
       "      <td>WorldCom director admits lying\\n \\n The former...</td>\n",
       "      <td>business</td>\n",
       "      <td>356</td>\n",
       "      <td>2085</td>\n",
       "      <td>129</td>\n",
       "      <td>director admits lying the former chief financ...</td>\n",
       "    </tr>\n",
       "    <tr>\n",
       "      <th>9</th>\n",
       "      <td>9</td>\n",
       "      <td>Ebbers denies WorldCom fraud\\n \\n Former World...</td>\n",
       "      <td>business</td>\n",
       "      <td>346</td>\n",
       "      <td>2067</td>\n",
       "      <td>125</td>\n",
       "      <td>ebbers denies  fraud former  chief bernie ebbe...</td>\n",
       "    </tr>\n",
       "  </tbody>\n",
       "</table>\n",
       "</div>"
      ],
      "text/plain": [
       "   id                                               news      type  word_cnt  \\\n",
       "0   0  UK economy facing 'major risks'\\n \\n The UK ma...  business       329   \n",
       "1   1  Aids and climate top Davos agenda\\n \\n Climate...  business       454   \n",
       "2   2  Asian quake hits European shares\\n \\n Shares i...  business       553   \n",
       "3   3  India power shares jump on debut\\n \\n Shares i...  business       175   \n",
       "4   4  Lacroix label bought by US firm\\n \\n Luxury go...  business       152   \n",
       "5   5  Insurance bosses plead guilty\\n \\n Another thr...  business       146   \n",
       "6   6  Turkey-Iran mobile deal 'at risk'\\n \\n Turkey'...  business       257   \n",
       "7   7  Parmalat to return to stockmarket\\n \\n Parmala...  business       269   \n",
       "8   8  WorldCom director admits lying\\n \\n The former...  business       356   \n",
       "9   9  Ebbers denies WorldCom fraud\\n \\n Former World...  business       346   \n",
       "\n",
       "   char_cnt  stopwords                                         clean_text  \n",
       "0      1996        112  uk economy facing major risks the uk manufactu...  \n",
       "1      2727        161  aids and climate top davos agenda climate chan...  \n",
       "2      3444        171  asian quake hits european shares shares in eur...  \n",
       "3      1038         55  india power shares jump on debut shares in ind...  \n",
       "4       894         47  lacroix label bought by us firm luxury goods g...  \n",
       "5       920         39  insurance bosses plead guilty another three us...  \n",
       "6      1539         91  turkeyiran mobile deal at risk turkeys investm...  \n",
       "7      1675        100  parmalat to return to stockmarket parmalat the...  \n",
       "8      2085        129   director admits lying the former chief financ...  \n",
       "9      2067        125  ebbers denies  fraud former  chief bernie ebbe...  "
      ]
     },
     "execution_count": 11,
     "metadata": {},
     "output_type": "execute_result"
    }
   ],
   "source": [
    "# Punctuation doesn’t add any extra information while treating text data so we remove them\n",
    "df['clean_text'] = df.clean_text.str.replace('[^\\w\\s]','')\n",
    "df.head(10)"
   ]
  },
  {
   "cell_type": "markdown",
   "metadata": {},
   "source": [
    "# Removing Digits"
   ]
  },
  {
   "cell_type": "code",
   "execution_count": 12,
   "metadata": {},
   "outputs": [
    {
     "data": {
      "text/html": [
       "<div>\n",
       "<style scoped>\n",
       "    .dataframe tbody tr th:only-of-type {\n",
       "        vertical-align: middle;\n",
       "    }\n",
       "\n",
       "    .dataframe tbody tr th {\n",
       "        vertical-align: top;\n",
       "    }\n",
       "\n",
       "    .dataframe thead th {\n",
       "        text-align: right;\n",
       "    }\n",
       "</style>\n",
       "<table border=\"1\" class=\"dataframe\">\n",
       "  <thead>\n",
       "    <tr style=\"text-align: right;\">\n",
       "      <th></th>\n",
       "      <th>id</th>\n",
       "      <th>news</th>\n",
       "      <th>type</th>\n",
       "      <th>word_cnt</th>\n",
       "      <th>char_cnt</th>\n",
       "      <th>stopwords</th>\n",
       "      <th>clean_text</th>\n",
       "    </tr>\n",
       "  </thead>\n",
       "  <tbody>\n",
       "    <tr>\n",
       "      <th>0</th>\n",
       "      <td>0</td>\n",
       "      <td>UK economy facing 'major risks'\\n \\n The UK ma...</td>\n",
       "      <td>business</td>\n",
       "      <td>329</td>\n",
       "      <td>1996</td>\n",
       "      <td>112</td>\n",
       "      <td>uk economy facing major risks the uk manufactu...</td>\n",
       "    </tr>\n",
       "    <tr>\n",
       "      <th>1</th>\n",
       "      <td>1</td>\n",
       "      <td>Aids and climate top Davos agenda\\n \\n Climate...</td>\n",
       "      <td>business</td>\n",
       "      <td>454</td>\n",
       "      <td>2727</td>\n",
       "      <td>161</td>\n",
       "      <td>aids and climate top davos agenda climate chan...</td>\n",
       "    </tr>\n",
       "    <tr>\n",
       "      <th>2</th>\n",
       "      <td>2</td>\n",
       "      <td>Asian quake hits European shares\\n \\n Shares i...</td>\n",
       "      <td>business</td>\n",
       "      <td>553</td>\n",
       "      <td>3444</td>\n",
       "      <td>171</td>\n",
       "      <td>asian quake hits european shares shares in eur...</td>\n",
       "    </tr>\n",
       "    <tr>\n",
       "      <th>3</th>\n",
       "      <td>3</td>\n",
       "      <td>India power shares jump on debut\\n \\n Shares i...</td>\n",
       "      <td>business</td>\n",
       "      <td>175</td>\n",
       "      <td>1038</td>\n",
       "      <td>55</td>\n",
       "      <td>india power shares jump on debut shares in ind...</td>\n",
       "    </tr>\n",
       "    <tr>\n",
       "      <th>4</th>\n",
       "      <td>4</td>\n",
       "      <td>Lacroix label bought by US firm\\n \\n Luxury go...</td>\n",
       "      <td>business</td>\n",
       "      <td>152</td>\n",
       "      <td>894</td>\n",
       "      <td>47</td>\n",
       "      <td>lacroix label bought by us firm luxury goods g...</td>\n",
       "    </tr>\n",
       "    <tr>\n",
       "      <th>5</th>\n",
       "      <td>5</td>\n",
       "      <td>Insurance bosses plead guilty\\n \\n Another thr...</td>\n",
       "      <td>business</td>\n",
       "      <td>146</td>\n",
       "      <td>920</td>\n",
       "      <td>39</td>\n",
       "      <td>insurance bosses plead guilty another three us...</td>\n",
       "    </tr>\n",
       "    <tr>\n",
       "      <th>6</th>\n",
       "      <td>6</td>\n",
       "      <td>Turkey-Iran mobile deal 'at risk'\\n \\n Turkey'...</td>\n",
       "      <td>business</td>\n",
       "      <td>257</td>\n",
       "      <td>1539</td>\n",
       "      <td>91</td>\n",
       "      <td>turkeyiran mobile deal at risk turkeys investm...</td>\n",
       "    </tr>\n",
       "    <tr>\n",
       "      <th>7</th>\n",
       "      <td>7</td>\n",
       "      <td>Parmalat to return to stockmarket\\n \\n Parmala...</td>\n",
       "      <td>business</td>\n",
       "      <td>269</td>\n",
       "      <td>1675</td>\n",
       "      <td>100</td>\n",
       "      <td>parmalat to return to stockmarket parmalat the...</td>\n",
       "    </tr>\n",
       "    <tr>\n",
       "      <th>8</th>\n",
       "      <td>8</td>\n",
       "      <td>WorldCom director admits lying\\n \\n The former...</td>\n",
       "      <td>business</td>\n",
       "      <td>356</td>\n",
       "      <td>2085</td>\n",
       "      <td>129</td>\n",
       "      <td>director admits lying the former chief financ...</td>\n",
       "    </tr>\n",
       "    <tr>\n",
       "      <th>9</th>\n",
       "      <td>9</td>\n",
       "      <td>Ebbers denies WorldCom fraud\\n \\n Former World...</td>\n",
       "      <td>business</td>\n",
       "      <td>346</td>\n",
       "      <td>2067</td>\n",
       "      <td>125</td>\n",
       "      <td>ebbers denies  fraud former  chief bernie ebbe...</td>\n",
       "    </tr>\n",
       "  </tbody>\n",
       "</table>\n",
       "</div>"
      ],
      "text/plain": [
       "   id                                               news      type  word_cnt  \\\n",
       "0   0  UK economy facing 'major risks'\\n \\n The UK ma...  business       329   \n",
       "1   1  Aids and climate top Davos agenda\\n \\n Climate...  business       454   \n",
       "2   2  Asian quake hits European shares\\n \\n Shares i...  business       553   \n",
       "3   3  India power shares jump on debut\\n \\n Shares i...  business       175   \n",
       "4   4  Lacroix label bought by US firm\\n \\n Luxury go...  business       152   \n",
       "5   5  Insurance bosses plead guilty\\n \\n Another thr...  business       146   \n",
       "6   6  Turkey-Iran mobile deal 'at risk'\\n \\n Turkey'...  business       257   \n",
       "7   7  Parmalat to return to stockmarket\\n \\n Parmala...  business       269   \n",
       "8   8  WorldCom director admits lying\\n \\n The former...  business       356   \n",
       "9   9  Ebbers denies WorldCom fraud\\n \\n Former World...  business       346   \n",
       "\n",
       "   char_cnt  stopwords                                         clean_text  \n",
       "0      1996        112  uk economy facing major risks the uk manufactu...  \n",
       "1      2727        161  aids and climate top davos agenda climate chan...  \n",
       "2      3444        171  asian quake hits european shares shares in eur...  \n",
       "3      1038         55  india power shares jump on debut shares in ind...  \n",
       "4       894         47  lacroix label bought by us firm luxury goods g...  \n",
       "5       920         39  insurance bosses plead guilty another three us...  \n",
       "6      1539         91  turkeyiran mobile deal at risk turkeys investm...  \n",
       "7      1675        100  parmalat to return to stockmarket parmalat the...  \n",
       "8      2085        129   director admits lying the former chief financ...  \n",
       "9      2067        125  ebbers denies  fraud former  chief bernie ebbe...  "
      ]
     },
     "execution_count": 12,
     "metadata": {},
     "output_type": "execute_result"
    }
   ],
   "source": [
    "# Digits also do not add any information so we delete them\n",
    "df['clean_text'] = df.clean_text.str.replace('\\d+','')\n",
    "df.head(10)"
   ]
  },
  {
   "cell_type": "markdown",
   "metadata": {},
   "source": [
    "# Removing Stopwords"
   ]
  },
  {
   "cell_type": "code",
   "execution_count": 13,
   "metadata": {},
   "outputs": [
    {
     "data": {
      "text/html": [
       "<div>\n",
       "<style scoped>\n",
       "    .dataframe tbody tr th:only-of-type {\n",
       "        vertical-align: middle;\n",
       "    }\n",
       "\n",
       "    .dataframe tbody tr th {\n",
       "        vertical-align: top;\n",
       "    }\n",
       "\n",
       "    .dataframe thead th {\n",
       "        text-align: right;\n",
       "    }\n",
       "</style>\n",
       "<table border=\"1\" class=\"dataframe\">\n",
       "  <thead>\n",
       "    <tr style=\"text-align: right;\">\n",
       "      <th></th>\n",
       "      <th>id</th>\n",
       "      <th>news</th>\n",
       "      <th>type</th>\n",
       "      <th>word_cnt</th>\n",
       "      <th>char_cnt</th>\n",
       "      <th>stopwords</th>\n",
       "      <th>clean_text</th>\n",
       "    </tr>\n",
       "  </thead>\n",
       "  <tbody>\n",
       "    <tr>\n",
       "      <th>0</th>\n",
       "      <td>0</td>\n",
       "      <td>UK economy facing 'major risks'\\n \\n The UK ma...</td>\n",
       "      <td>business</td>\n",
       "      <td>329</td>\n",
       "      <td>1996</td>\n",
       "      <td>112</td>\n",
       "      <td>uk economy facing major risks uk manufacturing...</td>\n",
       "    </tr>\n",
       "    <tr>\n",
       "      <th>1</th>\n",
       "      <td>1</td>\n",
       "      <td>Aids and climate top Davos agenda\\n \\n Climate...</td>\n",
       "      <td>business</td>\n",
       "      <td>454</td>\n",
       "      <td>2727</td>\n",
       "      <td>161</td>\n",
       "      <td>aids climate top davos agenda climate change f...</td>\n",
       "    </tr>\n",
       "    <tr>\n",
       "      <th>2</th>\n",
       "      <td>2</td>\n",
       "      <td>Asian quake hits European shares\\n \\n Shares i...</td>\n",
       "      <td>business</td>\n",
       "      <td>553</td>\n",
       "      <td>3444</td>\n",
       "      <td>171</td>\n",
       "      <td>asian quake hits european shares shares europe...</td>\n",
       "    </tr>\n",
       "    <tr>\n",
       "      <th>3</th>\n",
       "      <td>3</td>\n",
       "      <td>India power shares jump on debut\\n \\n Shares i...</td>\n",
       "      <td>business</td>\n",
       "      <td>175</td>\n",
       "      <td>1038</td>\n",
       "      <td>55</td>\n",
       "      <td>india power shares jump debut shares indias la...</td>\n",
       "    </tr>\n",
       "    <tr>\n",
       "      <th>4</th>\n",
       "      <td>4</td>\n",
       "      <td>Lacroix label bought by US firm\\n \\n Luxury go...</td>\n",
       "      <td>business</td>\n",
       "      <td>152</td>\n",
       "      <td>894</td>\n",
       "      <td>47</td>\n",
       "      <td>lacroix label bought us firm luxury goods grou...</td>\n",
       "    </tr>\n",
       "    <tr>\n",
       "      <th>5</th>\n",
       "      <td>5</td>\n",
       "      <td>Insurance bosses plead guilty\\n \\n Another thr...</td>\n",
       "      <td>business</td>\n",
       "      <td>146</td>\n",
       "      <td>920</td>\n",
       "      <td>39</td>\n",
       "      <td>insurance bosses plead guilty another three us...</td>\n",
       "    </tr>\n",
       "    <tr>\n",
       "      <th>6</th>\n",
       "      <td>6</td>\n",
       "      <td>Turkey-Iran mobile deal 'at risk'\\n \\n Turkey'...</td>\n",
       "      <td>business</td>\n",
       "      <td>257</td>\n",
       "      <td>1539</td>\n",
       "      <td>91</td>\n",
       "      <td>turkeyiran mobile deal risk turkeys investment...</td>\n",
       "    </tr>\n",
       "    <tr>\n",
       "      <th>7</th>\n",
       "      <td>7</td>\n",
       "      <td>Parmalat to return to stockmarket\\n \\n Parmala...</td>\n",
       "      <td>business</td>\n",
       "      <td>269</td>\n",
       "      <td>1675</td>\n",
       "      <td>100</td>\n",
       "      <td>parmalat return stockmarket parmalat italian p...</td>\n",
       "    </tr>\n",
       "    <tr>\n",
       "      <th>8</th>\n",
       "      <td>8</td>\n",
       "      <td>WorldCom director admits lying\\n \\n The former...</td>\n",
       "      <td>business</td>\n",
       "      <td>356</td>\n",
       "      <td>2085</td>\n",
       "      <td>129</td>\n",
       "      <td>director admits lying former chief financial o...</td>\n",
       "    </tr>\n",
       "    <tr>\n",
       "      <th>9</th>\n",
       "      <td>9</td>\n",
       "      <td>Ebbers denies WorldCom fraud\\n \\n Former World...</td>\n",
       "      <td>business</td>\n",
       "      <td>346</td>\n",
       "      <td>2067</td>\n",
       "      <td>125</td>\n",
       "      <td>ebbers denies fraud former chief bernie ebbers...</td>\n",
       "    </tr>\n",
       "  </tbody>\n",
       "</table>\n",
       "</div>"
      ],
      "text/plain": [
       "   id                                               news      type  word_cnt  \\\n",
       "0   0  UK economy facing 'major risks'\\n \\n The UK ma...  business       329   \n",
       "1   1  Aids and climate top Davos agenda\\n \\n Climate...  business       454   \n",
       "2   2  Asian quake hits European shares\\n \\n Shares i...  business       553   \n",
       "3   3  India power shares jump on debut\\n \\n Shares i...  business       175   \n",
       "4   4  Lacroix label bought by US firm\\n \\n Luxury go...  business       152   \n",
       "5   5  Insurance bosses plead guilty\\n \\n Another thr...  business       146   \n",
       "6   6  Turkey-Iran mobile deal 'at risk'\\n \\n Turkey'...  business       257   \n",
       "7   7  Parmalat to return to stockmarket\\n \\n Parmala...  business       269   \n",
       "8   8  WorldCom director admits lying\\n \\n The former...  business       356   \n",
       "9   9  Ebbers denies WorldCom fraud\\n \\n Former World...  business       346   \n",
       "\n",
       "   char_cnt  stopwords                                         clean_text  \n",
       "0      1996        112  uk economy facing major risks uk manufacturing...  \n",
       "1      2727        161  aids climate top davos agenda climate change f...  \n",
       "2      3444        171  asian quake hits european shares shares europe...  \n",
       "3      1038         55  india power shares jump debut shares indias la...  \n",
       "4       894         47  lacroix label bought us firm luxury goods grou...  \n",
       "5       920         39  insurance bosses plead guilty another three us...  \n",
       "6      1539         91  turkeyiran mobile deal risk turkeys investment...  \n",
       "7      1675        100  parmalat return stockmarket parmalat italian p...  \n",
       "8      2085        129  director admits lying former chief financial o...  \n",
       "9      2067        125  ebbers denies fraud former chief bernie ebbers...  "
      ]
     },
     "execution_count": 13,
     "metadata": {},
     "output_type": "execute_result"
    }
   ],
   "source": [
    "from nltk.corpus import stopwords, words\n",
    "stop = stopwords.words('english')\n",
    "\n",
    "df['clean_text'] = df.clean_text.apply(lambda x: \" \".join(w for w in x.split() if w not in stop))\n",
    "df.head(10)"
   ]
  },
  {
   "cell_type": "markdown",
   "metadata": {},
   "source": [
    "# The ten most frequently used words in the text"
   ]
  },
  {
   "cell_type": "markdown",
   "metadata": {},
   "source": [
    "Generating a frequency dictionary for our text data."
   ]
  },
  {
   "cell_type": "code",
   "execution_count": 14,
   "metadata": {},
   "outputs": [
    {
     "data": {
      "text/plain": [
       "[('said', 7244),\n",
       " ('mr', 3004),\n",
       " ('would', 2554),\n",
       " ('also', 2141),\n",
       " ('people', 1954),\n",
       " ('new', 1942),\n",
       " ('us', 1901),\n",
       " ('one', 1733),\n",
       " ('year', 1628),\n",
       " ('could', 1505)]"
      ]
     },
     "execution_count": 14,
     "metadata": {},
     "output_type": "execute_result"
    }
   ],
   "source": [
    "freq = pd.Series(' '.join(df.clean_text).split()).value_counts().to_dict()\n",
    "\n",
    "# although dictionaries are useful data structures, they are had to 'slice-off' specific secions, so we use a list of this\n",
    "list(freq.items())[:10]"
   ]
  },
  {
   "cell_type": "markdown",
   "metadata": {},
   "source": [
    "The above listed words are the ten most used words in the tesxt. We can also display it using WorldCloud."
   ]
  },
  {
   "cell_type": "markdown",
   "metadata": {},
   "source": [
    "# Ten least frequent Words"
   ]
  },
  {
   "cell_type": "code",
   "execution_count": 55,
   "metadata": {},
   "outputs": [
    {
     "name": "stderr",
     "output_type": "stream",
     "text": [
      "C:\\Users\\Asmita Bamma\\anaconda3\\lib\\site-packages\\ipykernel\\ipkernel.py:287: DeprecationWarning: `should_run_async` will not call `transform_cell` automatically in the future. Please pass the result to `transformed_cell` argument and any exception that happen during thetransform in `preprocessing_exc_tuple` in IPython 7.17 and above.\n",
      "  and should_run_async(code)\n"
     ]
    },
    {
     "data": {
      "text/plain": [
       "[('mandeer', 1),\n",
       " ('onetomany', 1),\n",
       " ('snapfish', 1),\n",
       " ('djembadjemba', 1),\n",
       " ('randle', 1),\n",
       " ('homie', 1),\n",
       " ('frideric', 1),\n",
       " ('frightening', 1),\n",
       " ('disenfranchised', 1),\n",
       " ('nonemergency', 1)]"
      ]
     },
     "execution_count": 55,
     "metadata": {},
     "output_type": "execute_result"
    }
   ],
   "source": [
    "list(freq.items())[-10:]"
   ]
  },
  {
   "cell_type": "markdown",
   "metadata": {},
   "source": [
    "The results above show the ten least frequent words."
   ]
  },
  {
   "cell_type": "markdown",
   "metadata": {},
   "source": [
    "# WorldCloud"
   ]
  },
  {
   "cell_type": "code",
   "execution_count": 15,
   "metadata": {},
   "outputs": [],
   "source": [
    "# Importing WorldCloud to display the most frequent words\n",
    "from wordcloud import WordCloud\n",
    "\n",
    "wc = WordCloud(width=1000, height=600, max_words=200).generate_from_frequencies(freq)"
   ]
  },
  {
   "cell_type": "code",
   "execution_count": 16,
   "metadata": {},
   "outputs": [
    {
     "data": {
      "image/png": "[encoded data removed]",
      "text/plain": [
       "<Figure size 720x720 with 1 Axes>"
      ]
     },
     "metadata": {},
     "output_type": "display_data"
    }
   ],
   "source": [
    "import matplotlib.pyplot as plt\n",
    "\n",
    "plt.figure(figsize=(10, 10))\n",
    "plt.imshow(wc, interpolation='bilinear')\n",
    "plt.axis('off')\n",
    "plt.show()"
   ]
  },
  {
   "cell_type": "markdown",
   "metadata": {},
   "source": [
    "Here, we can easily tell the big bold words aere the frequently used words."
   ]
  },
  {
   "cell_type": "markdown",
   "metadata": {},
   "source": [
    "# Lemmatization"
   ]
  },
  {
   "cell_type": "markdown",
   "metadata": {},
   "source": [
    "Lemmatization converts the word into its root word, rather than just stripping the suffices. We can group similar words together. It will group similar words to one word. It will affect the number of frequent words because lemmatization will count all the similar words as one so it will increase the word frequency. For example:"
   ]
  },
  {
   "cell_type": "code",
   "execution_count": 18,
   "metadata": {},
   "outputs": [
    {
     "name": "stderr",
     "output_type": "stream",
     "text": [
      "[nltk_data] Downloading package wordnet to C:\\Users\\Asmita\n",
      "[nltk_data]     Bamma\\AppData\\Roaming\\nltk_data...\n",
      "[nltk_data]   Package wordnet is already up-to-date!\n"
     ]
    }
   ],
   "source": [
    "import nltk\n",
    "from nltk.stem import WordNetLemmatizer\n",
    "nltk.download('wordnet')\n",
    "\n",
    "#establish the lemmatizer\n",
    "wordnet_lemmatizer = WordNetLemmatizer()"
   ]
  },
  {
   "cell_type": "code",
   "execution_count": 19,
   "metadata": {},
   "outputs": [
    {
     "data": {
      "text/html": [
       "<div>\n",
       "<style scoped>\n",
       "    .dataframe tbody tr th:only-of-type {\n",
       "        vertical-align: middle;\n",
       "    }\n",
       "\n",
       "    .dataframe tbody tr th {\n",
       "        vertical-align: top;\n",
       "    }\n",
       "\n",
       "    .dataframe thead th {\n",
       "        text-align: right;\n",
       "    }\n",
       "</style>\n",
       "<table border=\"1\" class=\"dataframe\">\n",
       "  <thead>\n",
       "    <tr style=\"text-align: right;\">\n",
       "      <th></th>\n",
       "      <th>id</th>\n",
       "      <th>news</th>\n",
       "      <th>type</th>\n",
       "      <th>word_cnt</th>\n",
       "      <th>char_cnt</th>\n",
       "      <th>stopwords</th>\n",
       "      <th>clean_text</th>\n",
       "    </tr>\n",
       "  </thead>\n",
       "  <tbody>\n",
       "    <tr>\n",
       "      <th>0</th>\n",
       "      <td>0</td>\n",
       "      <td>UK economy facing 'major risks'\\n \\n The UK ma...</td>\n",
       "      <td>business</td>\n",
       "      <td>329</td>\n",
       "      <td>1996</td>\n",
       "      <td>112</td>\n",
       "      <td>uk economy facing major risk uk manufacturing ...</td>\n",
       "    </tr>\n",
       "    <tr>\n",
       "      <th>1</th>\n",
       "      <td>1</td>\n",
       "      <td>Aids and climate top Davos agenda\\n \\n Climate...</td>\n",
       "      <td>business</td>\n",
       "      <td>454</td>\n",
       "      <td>2727</td>\n",
       "      <td>161</td>\n",
       "      <td>aid climate top davos agenda climate change fi...</td>\n",
       "    </tr>\n",
       "    <tr>\n",
       "      <th>2</th>\n",
       "      <td>2</td>\n",
       "      <td>Asian quake hits European shares\\n \\n Shares i...</td>\n",
       "      <td>business</td>\n",
       "      <td>553</td>\n",
       "      <td>3444</td>\n",
       "      <td>171</td>\n",
       "      <td>asian quake hit european share share europe le...</td>\n",
       "    </tr>\n",
       "    <tr>\n",
       "      <th>3</th>\n",
       "      <td>3</td>\n",
       "      <td>India power shares jump on debut\\n \\n Shares i...</td>\n",
       "      <td>business</td>\n",
       "      <td>175</td>\n",
       "      <td>1038</td>\n",
       "      <td>55</td>\n",
       "      <td>india power share jump debut share india large...</td>\n",
       "    </tr>\n",
       "    <tr>\n",
       "      <th>4</th>\n",
       "      <td>4</td>\n",
       "      <td>Lacroix label bought by US firm\\n \\n Luxury go...</td>\n",
       "      <td>business</td>\n",
       "      <td>152</td>\n",
       "      <td>894</td>\n",
       "      <td>47</td>\n",
       "      <td>lacroix label bought u firm luxury good group ...</td>\n",
       "    </tr>\n",
       "    <tr>\n",
       "      <th>5</th>\n",
       "      <td>5</td>\n",
       "      <td>Insurance bosses plead guilty\\n \\n Another thr...</td>\n",
       "      <td>business</td>\n",
       "      <td>146</td>\n",
       "      <td>920</td>\n",
       "      <td>39</td>\n",
       "      <td>insurance boss plead guilty another three u in...</td>\n",
       "    </tr>\n",
       "    <tr>\n",
       "      <th>6</th>\n",
       "      <td>6</td>\n",
       "      <td>Turkey-Iran mobile deal 'at risk'\\n \\n Turkey'...</td>\n",
       "      <td>business</td>\n",
       "      <td>257</td>\n",
       "      <td>1539</td>\n",
       "      <td>91</td>\n",
       "      <td>turkeyiran mobile deal risk turkey investment ...</td>\n",
       "    </tr>\n",
       "    <tr>\n",
       "      <th>7</th>\n",
       "      <td>7</td>\n",
       "      <td>Parmalat to return to stockmarket\\n \\n Parmala...</td>\n",
       "      <td>business</td>\n",
       "      <td>269</td>\n",
       "      <td>1675</td>\n",
       "      <td>100</td>\n",
       "      <td>parmalat return stockmarket parmalat italian p...</td>\n",
       "    </tr>\n",
       "    <tr>\n",
       "      <th>8</th>\n",
       "      <td>8</td>\n",
       "      <td>WorldCom director admits lying\\n \\n The former...</td>\n",
       "      <td>business</td>\n",
       "      <td>356</td>\n",
       "      <td>2085</td>\n",
       "      <td>129</td>\n",
       "      <td>director admits lying former chief financial o...</td>\n",
       "    </tr>\n",
       "    <tr>\n",
       "      <th>9</th>\n",
       "      <td>9</td>\n",
       "      <td>Ebbers denies WorldCom fraud\\n \\n Former World...</td>\n",
       "      <td>business</td>\n",
       "      <td>346</td>\n",
       "      <td>2067</td>\n",
       "      <td>125</td>\n",
       "      <td>ebbers denies fraud former chief bernie ebbers...</td>\n",
       "    </tr>\n",
       "  </tbody>\n",
       "</table>\n",
       "</div>"
      ],
      "text/plain": [
       "   id                                               news      type  word_cnt  \\\n",
       "0   0  UK economy facing 'major risks'\\n \\n The UK ma...  business       329   \n",
       "1   1  Aids and climate top Davos agenda\\n \\n Climate...  business       454   \n",
       "2   2  Asian quake hits European shares\\n \\n Shares i...  business       553   \n",
       "3   3  India power shares jump on debut\\n \\n Shares i...  business       175   \n",
       "4   4  Lacroix label bought by US firm\\n \\n Luxury go...  business       152   \n",
       "5   5  Insurance bosses plead guilty\\n \\n Another thr...  business       146   \n",
       "6   6  Turkey-Iran mobile deal 'at risk'\\n \\n Turkey'...  business       257   \n",
       "7   7  Parmalat to return to stockmarket\\n \\n Parmala...  business       269   \n",
       "8   8  WorldCom director admits lying\\n \\n The former...  business       356   \n",
       "9   9  Ebbers denies WorldCom fraud\\n \\n Former World...  business       346   \n",
       "\n",
       "   char_cnt  stopwords                                         clean_text  \n",
       "0      1996        112  uk economy facing major risk uk manufacturing ...  \n",
       "1      2727        161  aid climate top davos agenda climate change fi...  \n",
       "2      3444        171  asian quake hit european share share europe le...  \n",
       "3      1038         55  india power share jump debut share india large...  \n",
       "4       894         47  lacroix label bought u firm luxury good group ...  \n",
       "5       920         39  insurance boss plead guilty another three u in...  \n",
       "6      1539         91  turkeyiran mobile deal risk turkey investment ...  \n",
       "7      1675        100  parmalat return stockmarket parmalat italian p...  \n",
       "8      2085        129  director admits lying former chief financial o...  \n",
       "9      2067        125  ebbers denies fraud former chief bernie ebbers...  "
      ]
     },
     "execution_count": 19,
     "metadata": {},
     "output_type": "execute_result"
    }
   ],
   "source": [
    "# Lets apply it to our dataframe\n",
    "df['clean_text'] = df.clean_text.apply(lambda x: \" \".join(wordnet_lemmatizer.lemmatize(w) for w in x.split()))\n",
    "df.head(10)"
   ]
  },
  {
   "cell_type": "code",
   "execution_count": 20,
   "metadata": {},
   "outputs": [
    {
     "data": {
      "text/plain": [
       "[('said', 7244),\n",
       " ('mr', 3045),\n",
       " ('year', 2851),\n",
       " ('would', 2554),\n",
       " ('also', 2141),\n",
       " ('people', 2029),\n",
       " ('new', 1942),\n",
       " ('u', 1933),\n",
       " ('one', 1803),\n",
       " ('could', 1505)]"
      ]
     },
     "execution_count": 20,
     "metadata": {},
     "output_type": "execute_result"
    }
   ],
   "source": [
    "# We have run the code now we will see if it change the frequency of words.\n",
    "\n",
    "freq = pd.Series(' '.join(df.clean_text).split()).value_counts().to_dict()\n",
    "\n",
    "list(freq.items())[:10]"
   ]
  },
  {
   "cell_type": "markdown",
   "metadata": {},
   "source": [
    "We can clearly see that the number of counts are increased for most words, in fact, 'year' moved to top 3 position. That is defibitely a big difference."
   ]
  },
  {
   "cell_type": "markdown",
   "metadata": {},
   "source": [
    "# N-grams"
   ]
  },
  {
   "cell_type": "markdown",
   "metadata": {},
   "source": [
    "First, we will create a list of individual words within our cleaned text which known as tokenization, resulting in a list of tokens."
   ]
  },
  {
   "cell_type": "code",
   "execution_count": 21,
   "metadata": {},
   "outputs": [],
   "source": [
    "#regenerate the tokens list\n",
    "tokens = ' '.join(df.clean_text).split()"
   ]
  },
  {
   "cell_type": "code",
   "execution_count": 22,
   "metadata": {},
   "outputs": [
    {
     "data": {
      "text/plain": [
       "[(('last', 'year'), 498),\n",
       " (('said', 'mr'), 363),\n",
       " (('told', 'bbc'), 347),\n",
       " (('mr', 'blair'), 334),\n",
       " (('prime', 'minister'), 317),\n",
       " (('mr', 'brown'), 256),\n",
       " (('chief', 'executive'), 204),\n",
       " (('said', 'would'), 193),\n",
       " (('last', 'week'), 188),\n",
       " (('tony', 'blair'), 186),\n",
       " (('mobile', 'phone'), 182),\n",
       " (('bbc', 'news'), 178),\n",
       " (('general', 'election'), 174),\n",
       " (('new', 'york'), 167),\n",
       " (('bn', 'bn'), 162),\n",
       " (('six', 'nation'), 162),\n",
       " (('year', 'ago'), 160),\n",
       " (('mr', 'howard'), 159),\n",
       " (('liberal', 'democrat'), 156),\n",
       " (('number', 'one'), 146)]"
      ]
     },
     "execution_count": 22,
     "metadata": {},
     "output_type": "execute_result"
    }
   ],
   "source": [
    "# creating the bigrams\n",
    "ngrams_2 = nltk.bigrams(tokens)\n",
    "\n",
    "# freq distribution for these\n",
    "freq_2grams = pd.Series(ngrams_2).value_counts().to_dict()\n",
    "list(freq_2grams.items())[:20]"
   ]
  },
  {
   "cell_type": "markdown",
   "metadata": {},
   "source": [
    "Great, our results show the two words and their frequency in our clean_text data. Now, lets try generating trigrams and see the results."
   ]
  },
  {
   "cell_type": "code",
   "execution_count": 23,
   "metadata": {},
   "outputs": [
    {
     "data": {
      "text/plain": [
       "[(('told', 'bbc', 'news'), 147),\n",
       " (('bbc', 'news', 'website'), 97),\n",
       " (('told', 'bbc', 'radio'), 76),\n",
       " (('leader', 'michael', 'howard'), 58),\n",
       " (('mr', 'blair', 'said'), 54),\n",
       " (('million', 'dollar', 'baby'), 52),\n",
       " (('radio', 'today', 'programme'), 49),\n",
       " (('told', 'bbc', 'sport'), 48),\n",
       " (('bbc', 'radio', 'today'), 47),\n",
       " (('tory', 'leader', 'michael'), 41),\n",
       " (('mr', 'howard', 'said'), 41),\n",
       " (('next', 'general', 'election'), 39),\n",
       " (('chancellor', 'gordon', 'brown'), 33),\n",
       " (('prime', 'minister', 'tony'), 32),\n",
       " (('leader', 'charles', 'kennedy'), 32),\n",
       " (('minister', 'tony', 'blair'), 32),\n",
       " (('digital', 'music', 'player'), 30),\n",
       " (('george', 'w', 'bush'), 29),\n",
       " (('two', 'year', 'ago'), 28),\n",
       " (('world', 'number', 'one'), 27)]"
      ]
     },
     "execution_count": 23,
     "metadata": {},
     "output_type": "execute_result"
    }
   ],
   "source": [
    "# creating the trigrams\n",
    "ngrams_3 = nltk.trigrams(tokens)\n",
    "\n",
    "# freq distribution for these\n",
    "freq_3grams = pd.Series(ngrams_3).value_counts().to_dict()\n",
    "list(freq_3grams.items())[:20]"
   ]
  },
  {
   "cell_type": "markdown",
   "metadata": {},
   "source": [
    "Now, here we have the combination of three words that come together frequently in our dataset. In fact, our results also show how many times these three words are written together.\n",
    "Comparatively. trigrams make more sense than bigrams because three words help better to understand the context."
   ]
  },
  {
   "cell_type": "markdown",
   "metadata": {},
   "source": [
    "# Part of Speech (POS)"
   ]
  },
  {
   "cell_type": "markdown",
   "metadata": {},
   "source": [
    "POS tagging will help in comparing the language structure present in our dataset. The process of classifying words into their parts of speech and labeling them accordingly is known as part-of-speech tagging."
   ]
  },
  {
   "cell_type": "code",
   "execution_count": 24,
   "metadata": {},
   "outputs": [
    {
     "name": "stderr",
     "output_type": "stream",
     "text": [
      "[nltk_data] Downloading package averaged_perceptron_tagger to\n",
      "[nltk_data]     C:\\Users\\Asmita Bamma\\AppData\\Roaming\\nltk_data...\n",
      "[nltk_data]   Package averaged_perceptron_tagger is already up-to-\n",
      "[nltk_data]       date!\n"
     ]
    },
    {
     "data": {
      "text/plain": [
       "[('uk', 'JJ'),\n",
       " ('economy', 'NN'),\n",
       " ('facing', 'VBG'),\n",
       " ('major', 'JJ'),\n",
       " ('risk', 'NN'),\n",
       " ('uk', 'IN'),\n",
       " ('manufacturing', 'VBG'),\n",
       " ('sector', 'NN'),\n",
       " ('continue', 'VBP'),\n",
       " ('face', 'VBP'),\n",
       " ('serious', 'JJ'),\n",
       " ('challenge', 'NN'),\n",
       " ('next', 'IN'),\n",
       " ('two', 'CD'),\n",
       " ('year', 'NN'),\n",
       " ('british', 'JJ'),\n",
       " ('chamber', 'NN'),\n",
       " ('merce', 'NN'),\n",
       " ('bcc', 'NN'),\n",
       " ('said', 'VBD')]"
      ]
     },
     "execution_count": 24,
     "metadata": {},
     "output_type": "execute_result"
    }
   ],
   "source": [
    " import nltk\n",
    "nltk.download('averaged_perceptron_tagger')\n",
    "from nltk.tag import pos_tag\n",
    "\n",
    "pos_tags = pos_tag(tokens)\n",
    "pos_tags[:20]"
   ]
  },
  {
   "cell_type": "markdown",
   "metadata": {},
   "source": [
    "We can also look at their frequency by creating a frequency distribution for the parts of speech in our dataset."
   ]
  },
  {
   "cell_type": "code",
   "execution_count": 26,
   "metadata": {},
   "outputs": [
    {
     "data": {
      "text/plain": [
       "Counter({'JJ': 92161,\n",
       "         'NN': 227649,\n",
       "         'VBG': 19781,\n",
       "         'IN': 7957,\n",
       "         'VBP': 14186,\n",
       "         'CD': 6674,\n",
       "         'VBD': 34338,\n",
       "         'NNS': 11844,\n",
       "         'RBS': 132,\n",
       "         'RB': 23215,\n",
       "         'VBN': 12482,\n",
       "         'VB': 10614,\n",
       "         'JJS': 2398,\n",
       "         'JJR': 1766,\n",
       "         'NNP': 1018,\n",
       "         'RBR': 1052,\n",
       "         'WP$': 120,\n",
       "         'MD': 5334,\n",
       "         'VBZ': 3158,\n",
       "         'DT': 811,\n",
       "         'CC': 296,\n",
       "         'FW': 912,\n",
       "         'PRP': 254,\n",
       "         'RP': 389,\n",
       "         'WP': 69,\n",
       "         'WRB': 45,\n",
       "         'WDT': 60,\n",
       "         'EX': 69,\n",
       "         'POS': 2,\n",
       "         'NNPS': 3,\n",
       "         'PRP$': 15,\n",
       "         'PDT': 4,\n",
       "         'TO': 2,\n",
       "         'UH': 10,\n",
       "         'SYM': 4})"
      ]
     },
     "execution_count": 26,
     "metadata": {},
     "output_type": "execute_result"
    }
   ],
   "source": [
    "from collections import Counter\n",
    "\n",
    "Counter([j for i,j in pos_tag(tokens)])\n"
   ]
  },
  {
   "cell_type": "markdown",
   "metadata": {},
   "source": [
    "The highest we have here is JJ which is an adjective. It means the mostly used part of speech is adjective in our dataset."
   ]
  },
  {
   "cell_type": "markdown",
   "metadata": {},
   "source": [
    "# Topic Modeling with Gensim"
   ]
  },
  {
   "cell_type": "markdown",
   "metadata": {},
   "source": [
    "First, we will obtain a list of lemmatized text"
   ]
  },
  {
   "cell_type": "code",
   "execution_count": 27,
   "metadata": {},
   "outputs": [
    {
     "name": "stdout",
     "output_type": "stream",
     "text": [
      "[['uk', 'economy', 'facing', 'major', 'risk', 'uk', 'manufacturing', 'sector', 'continue', 'face', 'serious', 'challenge', 'next', 'two', 'year', 'british', 'chamber', 'merce', 'bcc', 'said', 'group', 'quarterly', 'survey', 'panies', 'found', 'export', 'picked', 'last', 'three', 'month', 'best', 'level', 'eight', 'year', 'rise', 'came', 'despite', 'exchange', 'rate', 'cited', 'major', 'concern', 'however', 'bcc', 'found', 'whole', 'uk', 'economy', 'still', 'faced', 'major', 'risk', 'warned', 'growth', 'set', 'slow', 'recently', 'forecast', 'economic', 'growth', 'slow', 'little', 'manufacturer', 'domestic', 'sale', 'growth', 'fell', 'back', 'slightly', 'quarter', 'survey', 'firm', 'found', 'employment', 'manufacturing', 'also', 'fell', 'job', 'expectation', 'lowest', 'level', 'year', 'despite', 'positive', 'news', 'export', 'sector', 'worrying', 'sign', 'manufacturing', 'bcc', 'said', 'result', 'reinforce', 'concern', 'sector', 'persistent', 'inability', 'sustain', 'recovery', 'outlook', 'service', 'sector', 'uncertain', 'despite', 'increase', 'export', 'order', 'quarter', 'bcc', 'noted', 'bcc', 'found', 'confidence', 'increased', 'quarter', 'across', 'manufacturing', 'service', 'sector', 'although', 'overall', 'failed', 'reach', 'level', 'start', 'reduced', 'threat', 'interest', 'rate', 'increase', 'contributed', 'improved', 'confidence', 'said', 'bank', 'england', 'raised', 'interest', 'rate', 'five', 'time', 'november', 'august', 'last', 'year', 'rate', 'kept', 'hold', 'since', 'amid', 'sign', 'falling', 'consumer', 'confidence', 'slowdown', 'output', 'pressure', 'cost', 'margin', 'relentless', 'increase', 'regulation', 'threat', 'higher', 'tax', 'remain', 'serious', 'problem', 'bcc', 'director', 'general', 'david', 'frost', 'said', 'consumer', 'spending', 'set', 'decelerate', 'significantly', 'next', 'month', 'unlikely', 'investment', 'export', 'rise', 'sufficiently', 'strongly', 'pick', 'slack'], ['aid', 'climate', 'top', 'davos', 'agenda', 'climate', 'change', 'fight', 'aid', 'leading', 'list', 'concern', 'first', 'day', 'world', 'economic', 'forum', 'swiss', 'resort', 'davos', 'business', 'political', 'leader', 'around', 'globe', 'listen', 'uk', 'prime', 'minister', 'tony', 'blair', 'opening', 'speech', 'wednesday', 'mr', 'blair', 'focus', 'africa', 'development', 'plan', 'global', 'warming', 'earlier', 'day', 'came', 'update', 'effort', 'million', 'people', 'antiaids', 'drug', 'end', 'world', 'health', 'organisation', 'said', 'people', 'poor', 'country', 'lifeextending', 'drug', 'six', 'month', 'earlier', 'amounting', 'million', 'needed', 'bn', 'funding', 'gap', 'still', 'stood', 'way', 'hitting', 'target', 'said', 'theme', 'stressed', 'mr', 'blair', 'whose', 'attendance', 'announced', 'last', 'minute', 'want', 'dominate', 'uk', 'chairmanship', 'g', 'group', 'industrialised', 'state', 'issue', 'discussed', 'fiveday', 'conference', 'range', 'china', 'economic', 'power', 'iraq', 'future', 'sunday', 'election', 'aside', 'mr', 'blair', 'world', 'leader', 'expected', 'attend', 'including', 'french', 'president', 'jacques', 'chirac', 'due', 'speak', 'video', 'link', 'bad', 'weather', 'delayed', 'helicopter', 'south', 'african', 'president', 'thabo', 'mbeki', 'whose', 'arrival', 'delayed', 'ivory', 'coast', 'peace', 'talk', 'ukraine', 'new', 'president', 'viktor', 'yushchenko', 'also', 'newly', 'elected', 'palestinian', 'leader', 'mahmoud', 'abbas', 'showbiz', 'figure', 'also', 'put', 'appearance', 'u', 'frontman', 'bono', 'wellknown', 'campaigner', 'trade', 'development', 'issue', 'angelina', 'jolie', 'goodwill', 'campaigner', 'un', 'refugee', 'unlike', 'previous', 'year', 'protest', 'wef', 'expected', 'muted', 'antiglobalisation', 'campaigner', 'called', 'demonstration', 'planned', 'weekend', 'time', 'people', 'expected', 'converge', 'brazilian', 'resort', 'porto', 'alegre', 'world', 'social', 'forum', 'socalled', 'antidavos', 'campaigner', 'globalisation', 'fair', 'trade', 'many', 'cause', 'contrast', 'davos', 'forum', 'dominated', 'business', 'issue', 'outsourcing', 'corporate', 'leadership', 'boss', 'fifth', 'world', 'panies', 'led', 'attend', 'survey', 'published', 'eve', 'conference', 'pricewaterhousecoopers', 'said', 'four', 'ten', 'business', 'leader', 'confident', 'panies', 'would', 'see', 'sale', 'rise', 'asian', 'american', 'executive', 'however', 'much', 'confident', 'european', 'counterpart', 'political', 'discussion', 'focusing', 'iran', 'iraq', 'china', 'likely', 'dominate', 'medium', 'attention']]\n"
     ]
    }
   ],
   "source": [
    "lem_ls = list(df.clean_text.apply(lambda x: list(x.split())))\n",
    "print(lem_ls[:2])"
   ]
  },
  {
   "cell_type": "code",
   "execution_count": 28,
   "metadata": {},
   "outputs": [],
   "source": [
    "# Importing Gensim\n",
    "import gensim\n",
    "import gensim.corpora as corpora"
   ]
  },
  {
   "cell_type": "markdown",
   "metadata": {},
   "source": [
    "We will need to construct a dictionary of our lemmatized terms and a term document frequency (TDF) for our dataset."
   ]
  },
  {
   "cell_type": "code",
   "execution_count": 29,
   "metadata": {},
   "outputs": [],
   "source": [
    "# Creating Dictionary\n",
    "id2word = corpora.Dictionary(lem_ls)\n",
    "\n",
    "# Term Document Frequency Corpus\n",
    "#texts = lem_ls\n",
    "corpus = [id2word.doc2bow(post) for post in lem_ls]"
   ]
  },
  {
   "cell_type": "markdown",
   "metadata": {},
   "source": [
    "# Finding the optimal number of topics"
   ]
  },
  {
   "cell_type": "code",
   "execution_count": 30,
   "metadata": {},
   "outputs": [
    {
     "name": "stdout",
     "output_type": "stream",
     "text": [
      "Calcuting for 2 topics\n",
      "Calcuting for 3 topics\n",
      "Calcuting for 4 topics\n",
      "Calcuting for 5 topics\n",
      "Calcuting for 6 topics\n",
      "Calcuting for 7 topics\n",
      "Calcuting for 8 topics\n",
      "Calcuting for 9 topics\n",
      "Calcuting for 10 topics\n",
      "Calcuting for 11 topics\n",
      "Calcuting for 12 topics\n",
      "Calcuting for 13 topics\n",
      "Calcuting for 14 topics\n"
     ]
    }
   ],
   "source": [
    "# range of 2 to 15 topics\n",
    "\n",
    "from gensim.models import CoherenceModel\n",
    "\n",
    "scores = []\n",
    "for i in range(2,15):\n",
    "    print(f'Calcuting for {i} topics')\n",
    "    lda_model = gensim.models.LdaMulticore(corpus=corpus,\n",
    "                                       id2word=id2word,\n",
    "                                       num_topics=i, \n",
    "                                       random_state=42,\n",
    "                                       chunksize=100,\n",
    "                                       passes=10,\n",
    "                                       per_word_topics=True)\n",
    "    # compute the coherence score\n",
    "    coherence_model_lda = CoherenceModel(model=lda_model, \n",
    "                                         texts=lem_ls, \n",
    "                                         dictionary=id2word, \n",
    "                                         coherence='c_v')\n",
    "\n",
    "    # retreive the coherence_scores\n",
    "    coherence_lda = coherence_model_lda.get_coherence()\n",
    "    \n",
    "    scores.append((i,coherence_lda))"
   ]
  },
  {
   "cell_type": "code",
   "execution_count": 31,
   "metadata": {},
   "outputs": [
    {
     "data": {
      "text/plain": [
       "[(2, 0.2988692813180129),\n",
       " (3, 0.3674916281070389),\n",
       " (4, 0.4138698090248009),\n",
       " (5, 0.44796995464685085),\n",
       " (6, 0.4185491915941198),\n",
       " (7, 0.4854333387472103),\n",
       " (8, 0.4709712855704953),\n",
       " (9, 0.43900260602281793),\n",
       " (10, 0.45101811690195037),\n",
       " (11, 0.4281668457729889),\n",
       " (12, 0.45166090475124404),\n",
       " (13, 0.4588482442969203),\n",
       " (14, 0.5067875899288795)]"
      ]
     },
     "execution_count": 31,
     "metadata": {},
     "output_type": "execute_result"
    }
   ],
   "source": [
    "scores"
   ]
  },
  {
   "cell_type": "markdown",
   "metadata": {},
   "source": [
    "Topic Number and Accuracy with Coherence Score"
   ]
  },
  {
   "cell_type": "markdown",
   "metadata": {},
   "source": [
    "We have obtained different coherence scores with different number of topics from the results above. The highest score is 0.4829 which closest to 1. For, 14 number of topics, the score is the highest. So, the best choice here is 14.\n",
    "Therefore, num_topics = 14 will give the best model performance.\n",
    "\n"
   ]
  },
  {
   "cell_type": "code",
   "execution_count": 32,
   "metadata": {},
   "outputs": [],
   "source": [
    "bf_lda_model = gensim.models.LdaMulticore(corpus=corpus,\n",
    "                                       id2word=id2word,\n",
    "                                       num_topics=14, \n",
    "                                       random_state=42,\n",
    "                                       chunksize=100,\n",
    "                                       passes=10,\n",
    "                                       per_word_topics=True)"
   ]
  },
  {
   "cell_type": "markdown",
   "metadata": {},
   "source": [
    "# Print the Topics"
   ]
  },
  {
   "cell_type": "code",
   "execution_count": 33,
   "metadata": {},
   "outputs": [
    {
     "name": "stdout",
     "output_type": "stream",
     "text": [
      "[(0, '0.012*\"said\" + 0.010*\"technology\" + 0.010*\"people\" + 0.009*\"year\" + 0.008*\"mobile\" + 0.007*\"service\" + 0.007*\"phone\" + 0.007*\"digital\" + 0.007*\"one\" + 0.007*\"new\"'), (1, '0.022*\"said\" + 0.012*\"people\" + 0.008*\"music\" + 0.007*\"could\" + 0.006*\"online\" + 0.005*\"also\" + 0.005*\"service\" + 0.005*\"consumer\" + 0.005*\"many\" + 0.005*\"u\"'), (2, '0.013*\"open\" + 0.012*\"said\" + 0.010*\"set\" + 0.009*\"win\" + 0.009*\"first\" + 0.008*\"match\" + 0.007*\"roddick\" + 0.007*\"australian\" + 0.007*\"year\" + 0.007*\"final\"'), (3, '0.015*\"said\" + 0.009*\"country\" + 0.009*\"would\" + 0.008*\"government\" + 0.005*\"year\" + 0.005*\"world\" + 0.004*\"also\" + 0.004*\"people\" + 0.004*\"new\" + 0.004*\"union\"'), (4, '0.010*\"said\" + 0.009*\"patent\" + 0.008*\"test\" + 0.008*\"drug\" + 0.008*\"athens\" + 0.007*\"also\" + 0.007*\"athletics\" + 0.006*\"kenteris\" + 0.006*\"iaaf\" + 0.006*\"greek\"'), (5, '0.013*\"england\" + 0.010*\"game\" + 0.009*\"wale\" + 0.008*\"ireland\" + 0.008*\"side\" + 0.007*\"win\" + 0.007*\"first\" + 0.007*\"six\" + 0.007*\"player\" + 0.006*\"rugby\"'), (6, '0.015*\"said\" + 0.010*\"u\" + 0.009*\"card\" + 0.007*\"spyware\" + 0.007*\"attack\" + 0.006*\"machine\" + 0.006*\"bank\" + 0.006*\"mr\" + 0.005*\"criminal\" + 0.005*\"antivirus\"'), (7, '0.019*\"said\" + 0.014*\"user\" + 0.013*\"software\" + 0.012*\"site\" + 0.011*\"search\" + 0.010*\"people\" + 0.009*\"program\" + 0.009*\"net\" + 0.008*\"virus\" + 0.008*\"security\"'), (8, '0.020*\"film\" + 0.017*\"best\" + 0.014*\"award\" + 0.011*\"year\" + 0.007*\"star\" + 0.006*\"also\" + 0.005*\"said\" + 0.005*\"actor\" + 0.005*\"world\" + 0.005*\"u\"'), (9, '0.012*\"party\" + 0.011*\"ukip\" + 0.010*\"kilroysilk\" + 0.006*\"goal\" + 0.006*\"arsenal\" + 0.005*\"said\" + 0.005*\"shot\" + 0.005*\"henry\" + 0.004*\"chelsea\" + 0.004*\"used\"'), (10, '0.021*\"said\" + 0.019*\"mr\" + 0.010*\"would\" + 0.008*\"labour\" + 0.007*\"government\" + 0.007*\"election\" + 0.006*\"minister\" + 0.006*\"party\" + 0.006*\"blair\" + 0.006*\"year\"'), (11, '0.018*\"bn\" + 0.014*\"said\" + 0.013*\"u\" + 0.012*\"firm\" + 0.011*\"share\" + 0.011*\"pany\" + 0.011*\"sale\" + 0.008*\"oil\" + 0.008*\"price\" + 0.008*\"market\"'), (12, '0.016*\"said\" + 0.008*\"would\" + 0.006*\"time\" + 0.005*\"club\" + 0.005*\"new\" + 0.005*\"game\" + 0.004*\"told\" + 0.004*\"say\" + 0.004*\"one\" + 0.004*\"mr\"'), (13, '0.040*\"game\" + 0.015*\"mobile\" + 0.011*\"device\" + 0.009*\"phone\" + 0.009*\"said\" + 0.009*\"video\" + 0.007*\"console\" + 0.006*\"title\" + 0.006*\"also\" + 0.006*\"play\"')]\n"
     ]
    }
   ],
   "source": [
    "# Print the Keyword in the 14 topics\n",
    "print(lda_model.print_topics())"
   ]
  },
  {
   "cell_type": "markdown",
   "metadata": {},
   "source": [
    "The result is showing all the 14 topics starting from 0 to 13. The words shown in each topic have the highest frequency within that topic. For example, in topic 13, words such as said, apple, file, system, music, legal, game, u, movie, and court are mostly repeated. And the number next to them represent their frequency count from highest to the lowest. This means, 'game' has the highest count i.e. 0.040 for topic 13."
   ]
  },
  {
   "cell_type": "markdown",
   "metadata": {},
   "source": [
    "# Graph the Topics"
   ]
  },
  {
   "cell_type": "code",
   "execution_count": 34,
   "metadata": {},
   "outputs": [
    {
     "name": "stderr",
     "output_type": "stream",
     "text": [
      "C:\\Users\\Asmita Bamma\\anaconda3\\lib\\site-packages\\sklearn\\decomposition\\_lda.py:28: DeprecationWarning: `np.float` is a deprecated alias for the builtin `float`. To silence this warning, use `float` by itself. Doing this will not modify any behavior and is safe. If you specifically wanted the numpy scalar type, use `np.float64` here.\n",
      "Deprecated in NumPy 1.20; for more details and guidance: https://numpy.org/devdocs/release/1.20.0-notes.html#deprecations\n",
      "  EPS = np.finfo(np.float).eps\n"
     ]
    }
   ],
   "source": [
    "\n",
    "import pyLDAvis\n",
    "import pyLDAvis.gensim_models # Retrieved from https://stackoverflow.com/questions/66759852/no-module-named-pyldavis\n",
    "import pickle\n",
    "\n",
    "# Visualize the topics\n",
    "pyLDAvis.enable_notebook()\n",
    "LDAvis_prepared = pyLDAvis.gensim_models.prepare(bf_lda_model, corpus, id2word)\n",
    "pyLDAvis.save_html(LDAvis_prepared,'topic_model_viz.html')"
   ]
  },
  {
   "cell_type": "markdown",
   "metadata": {},
   "source": [
    "The results from the graph shows us that our topic model is not a perfect topic model because the bubbles are clearly overlapping, and their sizes are significantly not equal to each other.Especially, topics 1, 4, 8, 9, and 11 are overlapping hugely. There is no distance between them which means there are less similarities between the topics and more differences. We can also determine that 'said' is the most frequent word in the entire corpus(dataset). We know this by looking at the length of blue bars when no topic is selected. \n",
    "Overall, we can improve this model by tuning. It might help to get better graphical results."
   ]
  }
 ],
 "metadata": {
  "kernelspec": {
   "display_name": "Python 3",
   "language": "python",
   "name": "python3"
  },
  "language_info": {
   "codemirror_mode": {
    "name": "ipython",
    "version": 3
   },
   "file_extension": ".py",
   "mimetype": "text/x-python",
   "name": "python",
   "nbconvert_exporter": "python",
   "pygments_lexer": "ipython3",
   "version": "3.8.8"
  }
 },
 "nbformat": 4,
 "nbformat_minor": 4
}
